{
 "cells": [
  {
   "cell_type": "code",
   "execution_count": 1,
   "metadata": {
    "collapsed": true
   },
   "outputs": [],
   "source": [
    "import pandas as pd"
   ]
  },
  {
   "cell_type": "code",
   "execution_count": 2,
   "metadata": {
    "collapsed": true
   },
   "outputs": [],
   "source": [
    "import numpy as np\n",
    "import matplotlib.pyplot as plt\n",
    "%matplotlib inline"
   ]
  },
  {
   "cell_type": "code",
   "execution_count": 3,
   "metadata": {
    "collapsed": true
   },
   "outputs": [],
   "source": [
    "data = pd.read_csv('sip_0.csv')"
   ]
  },
  {
   "cell_type": "code",
   "execution_count": 4,
   "metadata": {},
   "outputs": [
    {
     "data": {
      "text/html": [
       "<div>\n",
       "<style>\n",
       "    .dataframe thead tr:only-child th {\n",
       "        text-align: right;\n",
       "    }\n",
       "\n",
       "    .dataframe thead th {\n",
       "        text-align: left;\n",
       "    }\n",
       "\n",
       "    .dataframe tbody tr th {\n",
       "        vertical-align: top;\n",
       "    }\n",
       "</style>\n",
       "<table border=\"1\" class=\"dataframe\">\n",
       "  <thead>\n",
       "    <tr style=\"text-align: right;\">\n",
       "      <th></th>\n",
       "      <th>Fund</th>\n",
       "      <th>Rating</th>\n",
       "      <th>Category</th>\n",
       "      <th>Return 1-Year</th>\n",
       "      <th>Return 3-Year</th>\n",
       "      <th>Return 5-Year</th>\n",
       "      <th>Return 10-Year</th>\n",
       "      <th>Return 15-Year</th>\n",
       "      <th>Return 20-Year</th>\n",
       "    </tr>\n",
       "  </thead>\n",
       "  <tbody>\n",
       "    <tr>\n",
       "      <th>0</th>\n",
       "      <td>Aditya Birla Sun Life Active Debt Multi-Manage...</td>\n",
       "      <td>* *</td>\n",
       "      <td>DT-INC</td>\n",
       "      <td>1.76</td>\n",
       "      <td>6.83</td>\n",
       "      <td>7.85</td>\n",
       "      <td>7.94</td>\n",
       "      <td>-</td>\n",
       "      <td>-</td>\n",
       "    </tr>\n",
       "    <tr>\n",
       "      <th>1</th>\n",
       "      <td>Aditya Birla Sun Life Active Debt Multi-Manage...</td>\n",
       "      <td>* * *</td>\n",
       "      <td>DT-INC</td>\n",
       "      <td>2.27</td>\n",
       "      <td>7.37</td>\n",
       "      <td>-</td>\n",
       "      <td>-</td>\n",
       "      <td>-</td>\n",
       "      <td>-</td>\n",
       "    </tr>\n",
       "    <tr>\n",
       "      <th>2</th>\n",
       "      <td>Aditya Birla Sun Life Advantage Fund</td>\n",
       "      <td>* * * * *</td>\n",
       "      <td>EQ-MLC</td>\n",
       "      <td>31.67</td>\n",
       "      <td>22.29</td>\n",
       "      <td>24.79</td>\n",
       "      <td>18.5</td>\n",
       "      <td>17.69</td>\n",
       "      <td>18.67</td>\n",
       "    </tr>\n",
       "    <tr>\n",
       "      <th>3</th>\n",
       "      <td>Aditya Birla Sun Life Advantage Fund - Direct ...</td>\n",
       "      <td>* * * * *</td>\n",
       "      <td>EQ-MLC</td>\n",
       "      <td>33.37</td>\n",
       "      <td>23.75</td>\n",
       "      <td>-</td>\n",
       "      <td>-</td>\n",
       "      <td>-</td>\n",
       "      <td>-</td>\n",
       "    </tr>\n",
       "    <tr>\n",
       "      <th>4</th>\n",
       "      <td>Aditya Birla Sun Life Balanced '95 Fund</td>\n",
       "      <td>* * * *</td>\n",
       "      <td>HY-EQ</td>\n",
       "      <td>20.62</td>\n",
       "      <td>15.97</td>\n",
       "      <td>18.14</td>\n",
       "      <td>16.32</td>\n",
       "      <td>17.33</td>\n",
       "      <td>19.02</td>\n",
       "    </tr>\n",
       "  </tbody>\n",
       "</table>\n",
       "</div>"
      ],
      "text/plain": [
       "                                                Fund      Rating    Category  \\\n",
       "0  Aditya Birla Sun Life Active Debt Multi-Manage...        * *   DT-INC       \n",
       "1  Aditya Birla Sun Life Active Debt Multi-Manage...      * * *   DT-INC       \n",
       "2               Aditya Birla Sun Life Advantage Fund  * * * * *   EQ-MLC       \n",
       "3  Aditya Birla Sun Life Advantage Fund - Direct ...  * * * * *   EQ-MLC       \n",
       "4            Aditya Birla Sun Life Balanced '95 Fund    * * * *   HY-EQ        \n",
       "\n",
       "   Return 1-Year Return 3-Year Return 5-Year Return 10-Year Return 15-Year  \\\n",
       "0           1.76          6.83          7.85           7.94              -   \n",
       "1           2.27          7.37             -              -              -   \n",
       "2          31.67         22.29         24.79           18.5          17.69   \n",
       "3          33.37         23.75             -              -              -   \n",
       "4          20.62         15.97         18.14          16.32          17.33   \n",
       "\n",
       "  Return 20-Year  \n",
       "0              -  \n",
       "1              -  \n",
       "2          18.67  \n",
       "3              -  \n",
       "4          19.02  "
      ]
     },
     "execution_count": 4,
     "metadata": {},
     "output_type": "execute_result"
    }
   ],
   "source": [
    "data.head()"
   ]
  },
  {
   "cell_type": "code",
   "execution_count": 5,
   "metadata": {
    "collapsed": true
   },
   "outputs": [],
   "source": [
    "data2 = pd.read_csv('sip_1.csv')"
   ]
  },
  {
   "cell_type": "code",
   "execution_count": 6,
   "metadata": {
    "collapsed": true
   },
   "outputs": [],
   "source": [
    "data3 = pd.read_csv('sip_2.csv')"
   ]
  },
  {
   "cell_type": "code",
   "execution_count": 7,
   "metadata": {},
   "outputs": [
    {
     "data": {
      "text/html": [
       "<div>\n",
       "<style>\n",
       "    .dataframe thead tr:only-child th {\n",
       "        text-align: right;\n",
       "    }\n",
       "\n",
       "    .dataframe thead th {\n",
       "        text-align: left;\n",
       "    }\n",
       "\n",
       "    .dataframe tbody tr th {\n",
       "        vertical-align: top;\n",
       "    }\n",
       "</style>\n",
       "<table border=\"1\" class=\"dataframe\">\n",
       "  <thead>\n",
       "    <tr style=\"text-align: right;\">\n",
       "      <th></th>\n",
       "      <th>Fund</th>\n",
       "      <th>Rating</th>\n",
       "      <th>Category</th>\n",
       "      <th>Return 1-Year</th>\n",
       "      <th>Return 3-Year</th>\n",
       "      <th>Return 5-Year</th>\n",
       "      <th>Return 10-Year</th>\n",
       "      <th>Return 15-Year</th>\n",
       "      <th>Return 20-Year</th>\n",
       "    </tr>\n",
       "  </thead>\n",
       "  <tbody>\n",
       "    <tr>\n",
       "      <th>0</th>\n",
       "      <td>CPSE Exchange Traded Fund</td>\n",
       "      <td>*</td>\n",
       "      <td>EQ-LC</td>\n",
       "      <td>17.94</td>\n",
       "      <td>16.03</td>\n",
       "      <td>-</td>\n",
       "      <td>-</td>\n",
       "      <td>-</td>\n",
       "      <td>-</td>\n",
       "    </tr>\n",
       "    <tr>\n",
       "      <th>1</th>\n",
       "      <td>Reliance Arbitrage Advantage Fund</td>\n",
       "      <td>* * *</td>\n",
       "      <td>HY-AR</td>\n",
       "      <td>5.61</td>\n",
       "      <td>6.1</td>\n",
       "      <td>6.79</td>\n",
       "      <td>-</td>\n",
       "      <td>-</td>\n",
       "      <td>-</td>\n",
       "    </tr>\n",
       "    <tr>\n",
       "      <th>2</th>\n",
       "      <td>Reliance Arbitrage Advantage Fund - Direct Plan</td>\n",
       "      <td>* * * *</td>\n",
       "      <td>HY-AR</td>\n",
       "      <td>6.26</td>\n",
       "      <td>6.73</td>\n",
       "      <td>-</td>\n",
       "      <td>-</td>\n",
       "      <td>-</td>\n",
       "      <td>-</td>\n",
       "    </tr>\n",
       "    <tr>\n",
       "      <th>3</th>\n",
       "      <td>Reliance Banking &amp; PSU Debt Fund</td>\n",
       "      <td>* * *</td>\n",
       "      <td>DT-INC</td>\n",
       "      <td>5.23</td>\n",
       "      <td>-</td>\n",
       "      <td>-</td>\n",
       "      <td>-</td>\n",
       "      <td>-</td>\n",
       "      <td>-</td>\n",
       "    </tr>\n",
       "    <tr>\n",
       "      <th>4</th>\n",
       "      <td>Reliance Banking &amp; PSU Debt Fund - Direct Plan</td>\n",
       "      <td>* * *</td>\n",
       "      <td>DT-INC</td>\n",
       "      <td>5.44</td>\n",
       "      <td>-</td>\n",
       "      <td>-</td>\n",
       "      <td>-</td>\n",
       "      <td>-</td>\n",
       "      <td>-</td>\n",
       "    </tr>\n",
       "  </tbody>\n",
       "</table>\n",
       "</div>"
      ],
      "text/plain": [
       "                                              Fund    Rating    Category  \\\n",
       "0                        CPSE Exchange Traded Fund        *   EQ-LC        \n",
       "1                Reliance Arbitrage Advantage Fund    * * *   HY-AR        \n",
       "2  Reliance Arbitrage Advantage Fund - Direct Plan  * * * *   HY-AR        \n",
       "3                 Reliance Banking & PSU Debt Fund    * * *   DT-INC       \n",
       "4   Reliance Banking & PSU Debt Fund - Direct Plan    * * *   DT-INC       \n",
       "\n",
       "   Return 1-Year Return 3-Year Return 5-Year Return 10-Year Return 15-Year  \\\n",
       "0          17.94         16.03             -              -              -   \n",
       "1           5.61           6.1          6.79              -              -   \n",
       "2           6.26          6.73             -              -              -   \n",
       "3           5.23             -             -              -              -   \n",
       "4           5.44             -             -              -              -   \n",
       "\n",
       "  Return 20-Year  \n",
       "0              -  \n",
       "1              -  \n",
       "2              -  \n",
       "3              -  \n",
       "4              -  "
      ]
     },
     "execution_count": 7,
     "metadata": {},
     "output_type": "execute_result"
    }
   ],
   "source": [
    "data2.head()"
   ]
  },
  {
   "cell_type": "code",
   "execution_count": 8,
   "metadata": {},
   "outputs": [
    {
     "data": {
      "text/html": [
       "<div>\n",
       "<style>\n",
       "    .dataframe thead tr:only-child th {\n",
       "        text-align: right;\n",
       "    }\n",
       "\n",
       "    .dataframe thead th {\n",
       "        text-align: left;\n",
       "    }\n",
       "\n",
       "    .dataframe tbody tr th {\n",
       "        vertical-align: top;\n",
       "    }\n",
       "</style>\n",
       "<table border=\"1\" class=\"dataframe\">\n",
       "  <thead>\n",
       "    <tr style=\"text-align: right;\">\n",
       "      <th></th>\n",
       "      <th>Fund</th>\n",
       "      <th>Rating</th>\n",
       "      <th>Category</th>\n",
       "      <th>Return 1-Year</th>\n",
       "      <th>Return 3-Year</th>\n",
       "      <th>Return 5-Year</th>\n",
       "      <th>Return 10-Year</th>\n",
       "      <th>Return 15-Year</th>\n",
       "      <th>Return 20-Year</th>\n",
       "    </tr>\n",
       "  </thead>\n",
       "  <tbody>\n",
       "    <tr>\n",
       "      <th>0</th>\n",
       "      <td>IDBI Corporate Debt Opportunities Fund - Direc...</td>\n",
       "      <td>* *</td>\n",
       "      <td>DT-CO</td>\n",
       "      <td>6.1</td>\n",
       "      <td>7.91</td>\n",
       "      <td>-</td>\n",
       "      <td>-</td>\n",
       "      <td>-</td>\n",
       "      <td>-</td>\n",
       "    </tr>\n",
       "    <tr>\n",
       "      <th>1</th>\n",
       "      <td>IDBI Corporate Debt Opportunities Fund - Regul...</td>\n",
       "      <td>*</td>\n",
       "      <td>DT-CO</td>\n",
       "      <td>4.86</td>\n",
       "      <td>6.79</td>\n",
       "      <td>-</td>\n",
       "      <td>-</td>\n",
       "      <td>-</td>\n",
       "      <td>-</td>\n",
       "    </tr>\n",
       "    <tr>\n",
       "      <th>2</th>\n",
       "      <td>IDBI Diversified Equity Fund - Direct Plan</td>\n",
       "      <td>* * *</td>\n",
       "      <td>EQ-MC</td>\n",
       "      <td>31.03</td>\n",
       "      <td>16.36</td>\n",
       "      <td>-</td>\n",
       "      <td>-</td>\n",
       "      <td>-</td>\n",
       "      <td>-</td>\n",
       "    </tr>\n",
       "    <tr>\n",
       "      <th>3</th>\n",
       "      <td>IDBI Diversified Equity Fund - Regular Plan</td>\n",
       "      <td>* *</td>\n",
       "      <td>EQ-MC</td>\n",
       "      <td>28.53</td>\n",
       "      <td>14.73</td>\n",
       "      <td>-</td>\n",
       "      <td>-</td>\n",
       "      <td>-</td>\n",
       "      <td>-</td>\n",
       "    </tr>\n",
       "    <tr>\n",
       "      <th>4</th>\n",
       "      <td>IDBI Dynamic Bond Fund</td>\n",
       "      <td>*</td>\n",
       "      <td>DT-DB</td>\n",
       "      <td>-1.05</td>\n",
       "      <td>4.08</td>\n",
       "      <td>5.42</td>\n",
       "      <td>-</td>\n",
       "      <td>-</td>\n",
       "      <td>-</td>\n",
       "    </tr>\n",
       "  </tbody>\n",
       "</table>\n",
       "</div>"
      ],
      "text/plain": [
       "                                                Fund  Rating    Category  \\\n",
       "0  IDBI Corporate Debt Opportunities Fund - Direc...    * *   DT-CO        \n",
       "1  IDBI Corporate Debt Opportunities Fund - Regul...      *   DT-CO        \n",
       "2         IDBI Diversified Equity Fund - Direct Plan  * * *   EQ-MC        \n",
       "3        IDBI Diversified Equity Fund - Regular Plan    * *   EQ-MC        \n",
       "4                             IDBI Dynamic Bond Fund      *   DT-DB        \n",
       "\n",
       "  Return 1-Year Return 3-Year Return 5-Year Return 10-Year Return 15-Year  \\\n",
       "0           6.1          7.91             -              -              -   \n",
       "1          4.86          6.79             -              -              -   \n",
       "2         31.03         16.36             -              -              -   \n",
       "3         28.53         14.73             -              -              -   \n",
       "4         -1.05          4.08          5.42              -              -   \n",
       "\n",
       "  Return 20-Year  \n",
       "0              -  \n",
       "1              -  \n",
       "2              -  \n",
       "3              -  \n",
       "4              -  "
      ]
     },
     "execution_count": 8,
     "metadata": {},
     "output_type": "execute_result"
    }
   ],
   "source": [
    "data3.head()"
   ]
  },
  {
   "cell_type": "code",
   "execution_count": 9,
   "metadata": {
    "collapsed": true
   },
   "outputs": [],
   "source": [
    "df = pd.concat([data,data2,data3],axis = 0)"
   ]
  },
  {
   "cell_type": "code",
   "execution_count": 10,
   "metadata": {},
   "outputs": [
    {
     "data": {
      "text/plain": [
       "1273"
      ]
     },
     "execution_count": 10,
     "metadata": {},
     "output_type": "execute_result"
    }
   ],
   "source": [
    "len(df)"
   ]
  },
  {
   "cell_type": "code",
   "execution_count": 11,
   "metadata": {},
   "outputs": [
    {
     "data": {
      "text/html": [
       "<div>\n",
       "<style>\n",
       "    .dataframe thead tr:only-child th {\n",
       "        text-align: right;\n",
       "    }\n",
       "\n",
       "    .dataframe thead th {\n",
       "        text-align: left;\n",
       "    }\n",
       "\n",
       "    .dataframe tbody tr th {\n",
       "        vertical-align: top;\n",
       "    }\n",
       "</style>\n",
       "<table border=\"1\" class=\"dataframe\">\n",
       "  <thead>\n",
       "    <tr style=\"text-align: right;\">\n",
       "      <th></th>\n",
       "      <th>Fund</th>\n",
       "      <th>Rating</th>\n",
       "      <th>Category</th>\n",
       "      <th>Return 1-Year</th>\n",
       "      <th>Return 3-Year</th>\n",
       "      <th>Return 5-Year</th>\n",
       "      <th>Return 10-Year</th>\n",
       "      <th>Return 15-Year</th>\n",
       "      <th>Return 20-Year</th>\n",
       "    </tr>\n",
       "  </thead>\n",
       "  <tbody>\n",
       "    <tr>\n",
       "      <th>0</th>\n",
       "      <td>Aditya Birla Sun Life Active Debt Multi-Manage...</td>\n",
       "      <td>* *</td>\n",
       "      <td>DT-INC</td>\n",
       "      <td>1.76</td>\n",
       "      <td>6.83</td>\n",
       "      <td>7.85</td>\n",
       "      <td>7.94</td>\n",
       "      <td>-</td>\n",
       "      <td>-</td>\n",
       "    </tr>\n",
       "    <tr>\n",
       "      <th>1</th>\n",
       "      <td>Aditya Birla Sun Life Active Debt Multi-Manage...</td>\n",
       "      <td>* * *</td>\n",
       "      <td>DT-INC</td>\n",
       "      <td>2.27</td>\n",
       "      <td>7.37</td>\n",
       "      <td>-</td>\n",
       "      <td>-</td>\n",
       "      <td>-</td>\n",
       "      <td>-</td>\n",
       "    </tr>\n",
       "    <tr>\n",
       "      <th>2</th>\n",
       "      <td>Aditya Birla Sun Life Advantage Fund</td>\n",
       "      <td>* * * * *</td>\n",
       "      <td>EQ-MLC</td>\n",
       "      <td>31.67</td>\n",
       "      <td>22.29</td>\n",
       "      <td>24.79</td>\n",
       "      <td>18.5</td>\n",
       "      <td>17.69</td>\n",
       "      <td>18.67</td>\n",
       "    </tr>\n",
       "    <tr>\n",
       "      <th>3</th>\n",
       "      <td>Aditya Birla Sun Life Advantage Fund - Direct ...</td>\n",
       "      <td>* * * * *</td>\n",
       "      <td>EQ-MLC</td>\n",
       "      <td>33.37</td>\n",
       "      <td>23.75</td>\n",
       "      <td>-</td>\n",
       "      <td>-</td>\n",
       "      <td>-</td>\n",
       "      <td>-</td>\n",
       "    </tr>\n",
       "    <tr>\n",
       "      <th>4</th>\n",
       "      <td>Aditya Birla Sun Life Balanced '95 Fund</td>\n",
       "      <td>* * * *</td>\n",
       "      <td>HY-EQ</td>\n",
       "      <td>20.62</td>\n",
       "      <td>15.97</td>\n",
       "      <td>18.14</td>\n",
       "      <td>16.32</td>\n",
       "      <td>17.33</td>\n",
       "      <td>19.02</td>\n",
       "    </tr>\n",
       "    <tr>\n",
       "      <th>5</th>\n",
       "      <td>Aditya Birla Sun Life Balanced '95 Fund - Dire...</td>\n",
       "      <td>* * * *</td>\n",
       "      <td>HY-EQ</td>\n",
       "      <td>22.19</td>\n",
       "      <td>17.38</td>\n",
       "      <td>-</td>\n",
       "      <td>-</td>\n",
       "      <td>-</td>\n",
       "      <td>-</td>\n",
       "    </tr>\n",
       "    <tr>\n",
       "      <th>6</th>\n",
       "      <td>Aditya Birla Sun Life Balanced Advantage Fund</td>\n",
       "      <td>* * *</td>\n",
       "      <td>HY-AA</td>\n",
       "      <td>10.91</td>\n",
       "      <td>14.13</td>\n",
       "      <td>14.37</td>\n",
       "      <td>12.09</td>\n",
       "      <td>12.39</td>\n",
       "      <td>-</td>\n",
       "    </tr>\n",
       "    <tr>\n",
       "      <th>7</th>\n",
       "      <td>Aditya Birla Sun Life Balanced Advantage Fund ...</td>\n",
       "      <td>* * * *</td>\n",
       "      <td>HY-AA</td>\n",
       "      <td>12.3</td>\n",
       "      <td>15.11</td>\n",
       "      <td>-</td>\n",
       "      <td>-</td>\n",
       "      <td>-</td>\n",
       "      <td>-</td>\n",
       "    </tr>\n",
       "    <tr>\n",
       "      <th>8</th>\n",
       "      <td>Aditya Birla Sun Life Banking &amp; Financial Serv...</td>\n",
       "      <td>* * * * *</td>\n",
       "      <td>EQ-BANK</td>\n",
       "      <td>30.83</td>\n",
       "      <td>27.41</td>\n",
       "      <td>-</td>\n",
       "      <td>-</td>\n",
       "      <td>-</td>\n",
       "      <td>-</td>\n",
       "    </tr>\n",
       "    <tr>\n",
       "      <th>9</th>\n",
       "      <td>Aditya Birla Sun Life Banking &amp; Financial Serv...</td>\n",
       "      <td>* * * * *</td>\n",
       "      <td>EQ-BANK</td>\n",
       "      <td>29.04</td>\n",
       "      <td>26.14</td>\n",
       "      <td>-</td>\n",
       "      <td>-</td>\n",
       "      <td>-</td>\n",
       "      <td>-</td>\n",
       "    </tr>\n",
       "  </tbody>\n",
       "</table>\n",
       "</div>"
      ],
      "text/plain": [
       "                                                Fund      Rating    Category  \\\n",
       "0  Aditya Birla Sun Life Active Debt Multi-Manage...        * *   DT-INC       \n",
       "1  Aditya Birla Sun Life Active Debt Multi-Manage...      * * *   DT-INC       \n",
       "2               Aditya Birla Sun Life Advantage Fund  * * * * *   EQ-MLC       \n",
       "3  Aditya Birla Sun Life Advantage Fund - Direct ...  * * * * *   EQ-MLC       \n",
       "4            Aditya Birla Sun Life Balanced '95 Fund    * * * *   HY-EQ        \n",
       "5  Aditya Birla Sun Life Balanced '95 Fund - Dire...    * * * *   HY-EQ        \n",
       "6      Aditya Birla Sun Life Balanced Advantage Fund      * * *   HY-AA        \n",
       "7  Aditya Birla Sun Life Balanced Advantage Fund ...    * * * *   HY-AA        \n",
       "8  Aditya Birla Sun Life Banking & Financial Serv...  * * * * *   EQ-BANK      \n",
       "9  Aditya Birla Sun Life Banking & Financial Serv...  * * * * *   EQ-BANK      \n",
       "\n",
       "  Return 1-Year Return 3-Year Return 5-Year Return 10-Year Return 15-Year  \\\n",
       "0          1.76          6.83          7.85           7.94              -   \n",
       "1          2.27          7.37             -              -              -   \n",
       "2         31.67         22.29         24.79           18.5          17.69   \n",
       "3         33.37         23.75             -              -              -   \n",
       "4         20.62         15.97         18.14          16.32          17.33   \n",
       "5         22.19         17.38             -              -              -   \n",
       "6         10.91         14.13         14.37          12.09          12.39   \n",
       "7          12.3         15.11             -              -              -   \n",
       "8         30.83         27.41             -              -              -   \n",
       "9         29.04         26.14             -              -              -   \n",
       "\n",
       "  Return 20-Year  \n",
       "0              -  \n",
       "1              -  \n",
       "2          18.67  \n",
       "3              -  \n",
       "4          19.02  \n",
       "5              -  \n",
       "6              -  \n",
       "7              -  \n",
       "8              -  \n",
       "9              -  "
      ]
     },
     "execution_count": 11,
     "metadata": {},
     "output_type": "execute_result"
    }
   ],
   "source": [
    "df.head(10)"
   ]
  },
  {
   "cell_type": "code",
   "execution_count": null,
   "metadata": {
    "collapsed": true
   },
   "outputs": [],
   "source": []
  },
  {
   "cell_type": "code",
   "execution_count": 12,
   "metadata": {
    "collapsed": true
   },
   "outputs": [],
   "source": [
    "for i in range(len(df)):\n",
    "    if(df['Rating'].iloc[i]=='* '):\n",
    "        df['Rating'].iloc[i]=1\n",
    "    if(df['Rating'].iloc[i]=='* * '):\n",
    "        df['Rating'].iloc[i]=2\n",
    "    if(df['Rating'].iloc[i]=='* * * '):\n",
    "        df['Rating'].iloc[i]=3\n",
    "    if(df['Rating'].iloc[i]=='* * * * '):\n",
    "        df['Rating'].iloc[i]=4\n",
    "    if(df['Rating'].iloc[i]=='* * * * * '):\n",
    "        df['Rating'].iloc[i]=5"
   ]
  },
  {
   "cell_type": "code",
   "execution_count": 13,
   "metadata": {},
   "outputs": [
    {
     "data": {
      "text/plain": [
       "5"
      ]
     },
     "execution_count": 13,
     "metadata": {},
     "output_type": "execute_result"
    }
   ],
   "source": [
    "df['Rating'].iloc[3]"
   ]
  },
  {
   "cell_type": "code",
   "execution_count": null,
   "metadata": {
    "collapsed": true
   },
   "outputs": [],
   "source": []
  },
  {
   "cell_type": "code",
   "execution_count": 14,
   "metadata": {},
   "outputs": [
    {
     "data": {
      "text/html": [
       "<div>\n",
       "<style>\n",
       "    .dataframe thead tr:only-child th {\n",
       "        text-align: right;\n",
       "    }\n",
       "\n",
       "    .dataframe thead th {\n",
       "        text-align: left;\n",
       "    }\n",
       "\n",
       "    .dataframe tbody tr th {\n",
       "        vertical-align: top;\n",
       "    }\n",
       "</style>\n",
       "<table border=\"1\" class=\"dataframe\">\n",
       "  <thead>\n",
       "    <tr style=\"text-align: right;\">\n",
       "      <th></th>\n",
       "      <th>Fund</th>\n",
       "      <th>Rating</th>\n",
       "      <th>Category</th>\n",
       "      <th>Return 1-Year</th>\n",
       "      <th>Return 3-Year</th>\n",
       "      <th>Return 5-Year</th>\n",
       "      <th>Return 10-Year</th>\n",
       "      <th>Return 15-Year</th>\n",
       "      <th>Return 20-Year</th>\n",
       "    </tr>\n",
       "  </thead>\n",
       "  <tbody>\n",
       "    <tr>\n",
       "      <th>0</th>\n",
       "      <td>Aditya Birla Sun Life Active Debt Multi-Manage...</td>\n",
       "      <td>2</td>\n",
       "      <td>DT-INC</td>\n",
       "      <td>1.76</td>\n",
       "      <td>6.83</td>\n",
       "      <td>7.85</td>\n",
       "      <td>7.94</td>\n",
       "      <td>-</td>\n",
       "      <td>-</td>\n",
       "    </tr>\n",
       "    <tr>\n",
       "      <th>1</th>\n",
       "      <td>Aditya Birla Sun Life Active Debt Multi-Manage...</td>\n",
       "      <td>3</td>\n",
       "      <td>DT-INC</td>\n",
       "      <td>2.27</td>\n",
       "      <td>7.37</td>\n",
       "      <td>-</td>\n",
       "      <td>-</td>\n",
       "      <td>-</td>\n",
       "      <td>-</td>\n",
       "    </tr>\n",
       "    <tr>\n",
       "      <th>2</th>\n",
       "      <td>Aditya Birla Sun Life Advantage Fund</td>\n",
       "      <td>5</td>\n",
       "      <td>EQ-MLC</td>\n",
       "      <td>31.67</td>\n",
       "      <td>22.29</td>\n",
       "      <td>24.79</td>\n",
       "      <td>18.5</td>\n",
       "      <td>17.69</td>\n",
       "      <td>18.67</td>\n",
       "    </tr>\n",
       "    <tr>\n",
       "      <th>3</th>\n",
       "      <td>Aditya Birla Sun Life Advantage Fund - Direct ...</td>\n",
       "      <td>5</td>\n",
       "      <td>EQ-MLC</td>\n",
       "      <td>33.37</td>\n",
       "      <td>23.75</td>\n",
       "      <td>-</td>\n",
       "      <td>-</td>\n",
       "      <td>-</td>\n",
       "      <td>-</td>\n",
       "    </tr>\n",
       "    <tr>\n",
       "      <th>4</th>\n",
       "      <td>Aditya Birla Sun Life Balanced '95 Fund</td>\n",
       "      <td>4</td>\n",
       "      <td>HY-EQ</td>\n",
       "      <td>20.62</td>\n",
       "      <td>15.97</td>\n",
       "      <td>18.14</td>\n",
       "      <td>16.32</td>\n",
       "      <td>17.33</td>\n",
       "      <td>19.02</td>\n",
       "    </tr>\n",
       "    <tr>\n",
       "      <th>5</th>\n",
       "      <td>Aditya Birla Sun Life Balanced '95 Fund - Dire...</td>\n",
       "      <td>4</td>\n",
       "      <td>HY-EQ</td>\n",
       "      <td>22.19</td>\n",
       "      <td>17.38</td>\n",
       "      <td>-</td>\n",
       "      <td>-</td>\n",
       "      <td>-</td>\n",
       "      <td>-</td>\n",
       "    </tr>\n",
       "    <tr>\n",
       "      <th>6</th>\n",
       "      <td>Aditya Birla Sun Life Balanced Advantage Fund</td>\n",
       "      <td>3</td>\n",
       "      <td>HY-AA</td>\n",
       "      <td>10.91</td>\n",
       "      <td>14.13</td>\n",
       "      <td>14.37</td>\n",
       "      <td>12.09</td>\n",
       "      <td>12.39</td>\n",
       "      <td>-</td>\n",
       "    </tr>\n",
       "    <tr>\n",
       "      <th>7</th>\n",
       "      <td>Aditya Birla Sun Life Balanced Advantage Fund ...</td>\n",
       "      <td>4</td>\n",
       "      <td>HY-AA</td>\n",
       "      <td>12.3</td>\n",
       "      <td>15.11</td>\n",
       "      <td>-</td>\n",
       "      <td>-</td>\n",
       "      <td>-</td>\n",
       "      <td>-</td>\n",
       "    </tr>\n",
       "    <tr>\n",
       "      <th>8</th>\n",
       "      <td>Aditya Birla Sun Life Banking &amp; Financial Serv...</td>\n",
       "      <td>5</td>\n",
       "      <td>EQ-BANK</td>\n",
       "      <td>30.83</td>\n",
       "      <td>27.41</td>\n",
       "      <td>-</td>\n",
       "      <td>-</td>\n",
       "      <td>-</td>\n",
       "      <td>-</td>\n",
       "    </tr>\n",
       "    <tr>\n",
       "      <th>9</th>\n",
       "      <td>Aditya Birla Sun Life Banking &amp; Financial Serv...</td>\n",
       "      <td>5</td>\n",
       "      <td>EQ-BANK</td>\n",
       "      <td>29.04</td>\n",
       "      <td>26.14</td>\n",
       "      <td>-</td>\n",
       "      <td>-</td>\n",
       "      <td>-</td>\n",
       "      <td>-</td>\n",
       "    </tr>\n",
       "  </tbody>\n",
       "</table>\n",
       "</div>"
      ],
      "text/plain": [
       "                                                Fund Rating    Category  \\\n",
       "0  Aditya Birla Sun Life Active Debt Multi-Manage...      2  DT-INC       \n",
       "1  Aditya Birla Sun Life Active Debt Multi-Manage...      3  DT-INC       \n",
       "2               Aditya Birla Sun Life Advantage Fund      5  EQ-MLC       \n",
       "3  Aditya Birla Sun Life Advantage Fund - Direct ...      5  EQ-MLC       \n",
       "4            Aditya Birla Sun Life Balanced '95 Fund      4  HY-EQ        \n",
       "5  Aditya Birla Sun Life Balanced '95 Fund - Dire...      4  HY-EQ        \n",
       "6      Aditya Birla Sun Life Balanced Advantage Fund      3  HY-AA        \n",
       "7  Aditya Birla Sun Life Balanced Advantage Fund ...      4  HY-AA        \n",
       "8  Aditya Birla Sun Life Banking & Financial Serv...      5  EQ-BANK      \n",
       "9  Aditya Birla Sun Life Banking & Financial Serv...      5  EQ-BANK      \n",
       "\n",
       "  Return 1-Year Return 3-Year Return 5-Year Return 10-Year Return 15-Year  \\\n",
       "0          1.76          6.83          7.85           7.94              -   \n",
       "1          2.27          7.37             -              -              -   \n",
       "2         31.67         22.29         24.79           18.5          17.69   \n",
       "3         33.37         23.75             -              -              -   \n",
       "4         20.62         15.97         18.14          16.32          17.33   \n",
       "5         22.19         17.38             -              -              -   \n",
       "6         10.91         14.13         14.37          12.09          12.39   \n",
       "7          12.3         15.11             -              -              -   \n",
       "8         30.83         27.41             -              -              -   \n",
       "9         29.04         26.14             -              -              -   \n",
       "\n",
       "  Return 20-Year  \n",
       "0              -  \n",
       "1              -  \n",
       "2          18.67  \n",
       "3              -  \n",
       "4          19.02  \n",
       "5              -  \n",
       "6              -  \n",
       "7              -  \n",
       "8              -  \n",
       "9              -  "
      ]
     },
     "execution_count": 14,
     "metadata": {},
     "output_type": "execute_result"
    }
   ],
   "source": [
    "df.head(10)"
   ]
  },
  {
   "cell_type": "code",
   "execution_count": 15,
   "metadata": {},
   "outputs": [
    {
     "data": {
      "text/plain": [
       "array([2, 3, 5, 4, 1], dtype=object)"
      ]
     },
     "execution_count": 15,
     "metadata": {},
     "output_type": "execute_result"
    }
   ],
   "source": [
    "df['Rating'].unique()"
   ]
  },
  {
   "cell_type": "code",
   "execution_count": 16,
   "metadata": {
    "collapsed": true
   },
   "outputs": [],
   "source": [
    "for i in range(len(df)):\n",
    "    for j in range(len(df.columns)):\n",
    "        if df.iloc[i][j]=='-':\n",
    "            df.iloc[i][j]=np.nan"
   ]
  },
  {
   "cell_type": "code",
   "execution_count": 17,
   "metadata": {},
   "outputs": [
    {
     "data": {
      "text/plain": [
       "Index(['Fund', 'Rating', 'Category', 'Return 1-Year', 'Return 3-Year',\n",
       "       'Return 5-Year', 'Return 10-Year', 'Return 15-Year', 'Return 20-Year'],\n",
       "      dtype='object')"
      ]
     },
     "execution_count": 17,
     "metadata": {},
     "output_type": "execute_result"
    }
   ],
   "source": [
    "df.columns"
   ]
  },
  {
   "cell_type": "code",
   "execution_count": 18,
   "metadata": {},
   "outputs": [
    {
     "data": {
      "text/html": [
       "<div>\n",
       "<style>\n",
       "    .dataframe thead tr:only-child th {\n",
       "        text-align: right;\n",
       "    }\n",
       "\n",
       "    .dataframe thead th {\n",
       "        text-align: left;\n",
       "    }\n",
       "\n",
       "    .dataframe tbody tr th {\n",
       "        vertical-align: top;\n",
       "    }\n",
       "</style>\n",
       "<table border=\"1\" class=\"dataframe\">\n",
       "  <thead>\n",
       "    <tr style=\"text-align: right;\">\n",
       "      <th></th>\n",
       "      <th>Fund</th>\n",
       "      <th>Rating</th>\n",
       "      <th>Category</th>\n",
       "      <th>Return 1-Year</th>\n",
       "      <th>Return 3-Year</th>\n",
       "      <th>Return 5-Year</th>\n",
       "      <th>Return 10-Year</th>\n",
       "      <th>Return 15-Year</th>\n",
       "      <th>Return 20-Year</th>\n",
       "    </tr>\n",
       "  </thead>\n",
       "  <tbody>\n",
       "    <tr>\n",
       "      <th>0</th>\n",
       "      <td>Aditya Birla Sun Life Active Debt Multi-Manage...</td>\n",
       "      <td>2</td>\n",
       "      <td>DT-INC</td>\n",
       "      <td>1.76</td>\n",
       "      <td>6.83</td>\n",
       "      <td>7.85</td>\n",
       "      <td>7.94</td>\n",
       "      <td>NaN</td>\n",
       "      <td>NaN</td>\n",
       "    </tr>\n",
       "    <tr>\n",
       "      <th>1</th>\n",
       "      <td>Aditya Birla Sun Life Active Debt Multi-Manage...</td>\n",
       "      <td>3</td>\n",
       "      <td>DT-INC</td>\n",
       "      <td>2.27</td>\n",
       "      <td>7.37</td>\n",
       "      <td>NaN</td>\n",
       "      <td>NaN</td>\n",
       "      <td>NaN</td>\n",
       "      <td>NaN</td>\n",
       "    </tr>\n",
       "    <tr>\n",
       "      <th>2</th>\n",
       "      <td>Aditya Birla Sun Life Advantage Fund</td>\n",
       "      <td>5</td>\n",
       "      <td>EQ-MLC</td>\n",
       "      <td>31.67</td>\n",
       "      <td>22.29</td>\n",
       "      <td>24.79</td>\n",
       "      <td>18.5</td>\n",
       "      <td>17.69</td>\n",
       "      <td>18.67</td>\n",
       "    </tr>\n",
       "    <tr>\n",
       "      <th>3</th>\n",
       "      <td>Aditya Birla Sun Life Advantage Fund - Direct ...</td>\n",
       "      <td>5</td>\n",
       "      <td>EQ-MLC</td>\n",
       "      <td>33.37</td>\n",
       "      <td>23.75</td>\n",
       "      <td>NaN</td>\n",
       "      <td>NaN</td>\n",
       "      <td>NaN</td>\n",
       "      <td>NaN</td>\n",
       "    </tr>\n",
       "    <tr>\n",
       "      <th>4</th>\n",
       "      <td>Aditya Birla Sun Life Balanced '95 Fund</td>\n",
       "      <td>4</td>\n",
       "      <td>HY-EQ</td>\n",
       "      <td>20.62</td>\n",
       "      <td>15.97</td>\n",
       "      <td>18.14</td>\n",
       "      <td>16.32</td>\n",
       "      <td>17.33</td>\n",
       "      <td>19.02</td>\n",
       "    </tr>\n",
       "  </tbody>\n",
       "</table>\n",
       "</div>"
      ],
      "text/plain": [
       "                                                Fund Rating    Category  \\\n",
       "0  Aditya Birla Sun Life Active Debt Multi-Manage...      2  DT-INC       \n",
       "1  Aditya Birla Sun Life Active Debt Multi-Manage...      3  DT-INC       \n",
       "2               Aditya Birla Sun Life Advantage Fund      5  EQ-MLC       \n",
       "3  Aditya Birla Sun Life Advantage Fund - Direct ...      5  EQ-MLC       \n",
       "4            Aditya Birla Sun Life Balanced '95 Fund      4  HY-EQ        \n",
       "\n",
       "  Return 1-Year Return 3-Year Return 5-Year Return 10-Year Return 15-Year  \\\n",
       "0          1.76          6.83          7.85           7.94            NaN   \n",
       "1          2.27          7.37           NaN            NaN            NaN   \n",
       "2         31.67         22.29         24.79           18.5          17.69   \n",
       "3         33.37         23.75           NaN            NaN            NaN   \n",
       "4         20.62         15.97         18.14          16.32          17.33   \n",
       "\n",
       "  Return 20-Year  \n",
       "0            NaN  \n",
       "1            NaN  \n",
       "2          18.67  \n",
       "3            NaN  \n",
       "4          19.02  "
      ]
     },
     "execution_count": 18,
     "metadata": {},
     "output_type": "execute_result"
    }
   ],
   "source": [
    "df.head()"
   ]
  },
  {
   "cell_type": "code",
   "execution_count": 19,
   "metadata": {},
   "outputs": [
    {
     "data": {
      "text/plain": [
       "Fund                 0\n",
       "Rating               0\n",
       "Category             0\n",
       "Return 1-Year        5\n",
       "Return 3-Year       26\n",
       "Return 5-Year      698\n",
       "Return 10-Year     863\n",
       "Return 15-Year    1100\n",
       "Return 20-Year    1239\n",
       "dtype: int64"
      ]
     },
     "execution_count": 19,
     "metadata": {},
     "output_type": "execute_result"
    }
   ],
   "source": [
    "df.isnull().sum(axis=0)"
   ]
  },
  {
   "cell_type": "code",
   "execution_count": 20,
   "metadata": {
    "collapsed": true
   },
   "outputs": [],
   "source": [
    "df.to_csv('sip.csv',index=False)"
   ]
  },
  {
   "cell_type": "code",
   "execution_count": 21,
   "metadata": {
    "collapsed": true
   },
   "outputs": [],
   "source": [
    "df_new = pd.read_csv('sip.csv')"
   ]
  },
  {
   "cell_type": "code",
   "execution_count": 22,
   "metadata": {
    "collapsed": true
   },
   "outputs": [],
   "source": [
    "df = df_new"
   ]
  },
  {
   "cell_type": "code",
   "execution_count": 23,
   "metadata": {},
   "outputs": [
    {
     "data": {
      "text/plain": [
       "1273"
      ]
     },
     "execution_count": 23,
     "metadata": {},
     "output_type": "execute_result"
    }
   ],
   "source": [
    "len(df)"
   ]
  },
  {
   "cell_type": "code",
   "execution_count": 24,
   "metadata": {},
   "outputs": [
    {
     "data": {
      "text/plain": [
       "Fund              1273\n",
       "Rating               5\n",
       "Category            20\n",
       "Return 1-Year      947\n",
       "Return 3-Year      842\n",
       "Return 5-Year      456\n",
       "Return 10-Year     330\n",
       "Return 15-Year     165\n",
       "Return 20-Year      34\n",
       "dtype: int64"
      ]
     },
     "execution_count": 24,
     "metadata": {},
     "output_type": "execute_result"
    }
   ],
   "source": [
    "df.nunique(dropna=False)"
   ]
  },
  {
   "cell_type": "code",
   "execution_count": null,
   "metadata": {
    "collapsed": true
   },
   "outputs": [],
   "source": []
  },
  {
   "cell_type": "code",
   "execution_count": 25,
   "metadata": {},
   "outputs": [
    {
     "data": {
      "text/html": [
       "<div>\n",
       "<style>\n",
       "    .dataframe thead tr:only-child th {\n",
       "        text-align: right;\n",
       "    }\n",
       "\n",
       "    .dataframe thead th {\n",
       "        text-align: left;\n",
       "    }\n",
       "\n",
       "    .dataframe tbody tr th {\n",
       "        vertical-align: top;\n",
       "    }\n",
       "</style>\n",
       "<table border=\"1\" class=\"dataframe\">\n",
       "  <thead>\n",
       "    <tr style=\"text-align: right;\">\n",
       "      <th></th>\n",
       "      <th>Fund</th>\n",
       "      <th>Rating</th>\n",
       "      <th>Category</th>\n",
       "      <th>Return 1-Year</th>\n",
       "      <th>Return 3-Year</th>\n",
       "      <th>Return 5-Year</th>\n",
       "      <th>Return 10-Year</th>\n",
       "      <th>Return 15-Year</th>\n",
       "      <th>Return 20-Year</th>\n",
       "    </tr>\n",
       "  </thead>\n",
       "  <tbody>\n",
       "    <tr>\n",
       "      <th>0</th>\n",
       "      <td>Aditya Birla Sun Life Active Debt Multi-Manage...</td>\n",
       "      <td>2</td>\n",
       "      <td>DT-INC</td>\n",
       "      <td>1.76</td>\n",
       "      <td>6.83</td>\n",
       "      <td>7.85</td>\n",
       "      <td>7.94</td>\n",
       "      <td>NaN</td>\n",
       "      <td>NaN</td>\n",
       "    </tr>\n",
       "    <tr>\n",
       "      <th>1</th>\n",
       "      <td>Aditya Birla Sun Life Active Debt Multi-Manage...</td>\n",
       "      <td>3</td>\n",
       "      <td>DT-INC</td>\n",
       "      <td>2.27</td>\n",
       "      <td>7.37</td>\n",
       "      <td>NaN</td>\n",
       "      <td>NaN</td>\n",
       "      <td>NaN</td>\n",
       "      <td>NaN</td>\n",
       "    </tr>\n",
       "    <tr>\n",
       "      <th>2</th>\n",
       "      <td>Aditya Birla Sun Life Advantage Fund</td>\n",
       "      <td>5</td>\n",
       "      <td>EQ-MLC</td>\n",
       "      <td>31.67</td>\n",
       "      <td>22.29</td>\n",
       "      <td>24.79</td>\n",
       "      <td>18.50</td>\n",
       "      <td>17.69</td>\n",
       "      <td>18.67</td>\n",
       "    </tr>\n",
       "    <tr>\n",
       "      <th>3</th>\n",
       "      <td>Aditya Birla Sun Life Advantage Fund - Direct ...</td>\n",
       "      <td>5</td>\n",
       "      <td>EQ-MLC</td>\n",
       "      <td>33.37</td>\n",
       "      <td>23.75</td>\n",
       "      <td>NaN</td>\n",
       "      <td>NaN</td>\n",
       "      <td>NaN</td>\n",
       "      <td>NaN</td>\n",
       "    </tr>\n",
       "    <tr>\n",
       "      <th>4</th>\n",
       "      <td>Aditya Birla Sun Life Balanced '95 Fund</td>\n",
       "      <td>4</td>\n",
       "      <td>HY-EQ</td>\n",
       "      <td>20.62</td>\n",
       "      <td>15.97</td>\n",
       "      <td>18.14</td>\n",
       "      <td>16.32</td>\n",
       "      <td>17.33</td>\n",
       "      <td>19.02</td>\n",
       "    </tr>\n",
       "  </tbody>\n",
       "</table>\n",
       "</div>"
      ],
      "text/plain": [
       "                                                Fund  Rating    Category  \\\n",
       "0  Aditya Birla Sun Life Active Debt Multi-Manage...       2  DT-INC       \n",
       "1  Aditya Birla Sun Life Active Debt Multi-Manage...       3  DT-INC       \n",
       "2               Aditya Birla Sun Life Advantage Fund       5  EQ-MLC       \n",
       "3  Aditya Birla Sun Life Advantage Fund - Direct ...       5  EQ-MLC       \n",
       "4            Aditya Birla Sun Life Balanced '95 Fund       4  HY-EQ        \n",
       "\n",
       "   Return 1-Year  Return 3-Year  Return 5-Year  Return 10-Year  \\\n",
       "0           1.76           6.83           7.85            7.94   \n",
       "1           2.27           7.37            NaN             NaN   \n",
       "2          31.67          22.29          24.79           18.50   \n",
       "3          33.37          23.75            NaN             NaN   \n",
       "4          20.62          15.97          18.14           16.32   \n",
       "\n",
       "   Return 15-Year  Return 20-Year  \n",
       "0             NaN             NaN  \n",
       "1             NaN             NaN  \n",
       "2           17.69           18.67  \n",
       "3             NaN             NaN  \n",
       "4           17.33           19.02  "
      ]
     },
     "execution_count": 25,
     "metadata": {},
     "output_type": "execute_result"
    }
   ],
   "source": [
    "df.head()"
   ]
  },
  {
   "cell_type": "code",
   "execution_count": 26,
   "metadata": {},
   "outputs": [
    {
     "data": {
      "text/plain": [
       "Index(['Fund', 'Rating', 'Category', 'Return 1-Year', 'Return 3-Year',\n",
       "       'Return 5-Year', 'Return 10-Year', 'Return 15-Year', 'Return 20-Year'],\n",
       "      dtype='object')"
      ]
     },
     "execution_count": 26,
     "metadata": {},
     "output_type": "execute_result"
    }
   ],
   "source": [
    "df.columns"
   ]
  },
  {
   "cell_type": "code",
   "execution_count": 27,
   "metadata": {
    "collapsed": true
   },
   "outputs": [],
   "source": [
    "df = pd.get_dummies(df,columns=['Category'])"
   ]
  },
  {
   "cell_type": "code",
   "execution_count": 28,
   "metadata": {},
   "outputs": [
    {
     "data": {
      "text/plain": [
       "[dtype('O'),\n",
       " dtype('int64'),\n",
       " dtype('float64'),\n",
       " dtype('float64'),\n",
       " dtype('float64'),\n",
       " dtype('float64'),\n",
       " dtype('float64'),\n",
       " dtype('float64'),\n",
       " dtype('uint8'),\n",
       " dtype('uint8'),\n",
       " dtype('uint8'),\n",
       " dtype('uint8'),\n",
       " dtype('uint8'),\n",
       " dtype('uint8'),\n",
       " dtype('uint8'),\n",
       " dtype('uint8'),\n",
       " dtype('uint8'),\n",
       " dtype('uint8'),\n",
       " dtype('uint8'),\n",
       " dtype('uint8'),\n",
       " dtype('uint8'),\n",
       " dtype('uint8'),\n",
       " dtype('uint8'),\n",
       " dtype('uint8'),\n",
       " dtype('uint8'),\n",
       " dtype('uint8'),\n",
       " dtype('uint8'),\n",
       " dtype('uint8')]"
      ]
     },
     "execution_count": 28,
     "metadata": {},
     "output_type": "execute_result"
    }
   ],
   "source": [
    "[df[col].dtype for col in df.columns]"
   ]
  },
  {
   "cell_type": "code",
   "execution_count": 29,
   "metadata": {},
   "outputs": [
    {
     "data": {
      "text/plain": [
       "Fund                      0\n",
       "Rating                    0\n",
       "Return 1-Year             5\n",
       "Return 3-Year            26\n",
       "Return 5-Year           698\n",
       "Return 10-Year          863\n",
       "Return 15-Year         1100\n",
       "Return 20-Year         1239\n",
       "Category_DT-CO            0\n",
       "Category_DT-DB            0\n",
       "Category_DT-INC           0\n",
       "Category_DT-LIQ           0\n",
       "Category_DT-ST            0\n",
       "Category_DT-UST           0\n",
       "Category_EQ-BANK          0\n",
       "Category_EQ-INFRA         0\n",
       "Category_EQ-LC            0\n",
       "Category_EQ-MC            0\n",
       "Category_EQ-MLC           0\n",
       "Category_EQ-SC            0\n",
       "Category_EQ-TS            0\n",
       "Category_GL-MLT           0\n",
       "Category_GL-ST            0\n",
       "Category_HY-AA            0\n",
       "Category_HY-AR            0\n",
       "Category_HY-DA            0\n",
       "Category_HY-DC            0\n",
       "Category_HY-EQ            0\n",
       "dtype: int64"
      ]
     },
     "execution_count": 29,
     "metadata": {},
     "output_type": "execute_result"
    }
   ],
   "source": [
    "df.isnull().sum(axis=0)"
   ]
  },
  {
   "cell_type": "code",
   "execution_count": 30,
   "metadata": {},
   "outputs": [
    {
     "data": {
      "text/plain": [
       "<matplotlib.axes._subplots.AxesSubplot at 0x1c40041c048>"
      ]
     },
     "execution_count": 30,
     "metadata": {},
     "output_type": "execute_result"
    },
    {
     "data": {
      "image/png": "[encoded data removed]",
      "text/plain": [
       "<matplotlib.figure.Figure at 0x1c4003d5d68>"
      ]
     },
     "metadata": {},
     "output_type": "display_data"
    }
   ],
   "source": [
    "df['Return 1-Year'].hist()"
   ]
  },
  {
   "cell_type": "code",
   "execution_count": 31,
   "metadata": {},
   "outputs": [
    {
     "data": {
      "text/plain": [
       "<matplotlib.axes._subplots.AxesSubplot at 0x1c4005cb908>"
      ]
     },
     "execution_count": 31,
     "metadata": {},
     "output_type": "execute_result"
    },
    {
     "data": {
      "image/png": "[encoded data removed]",
      "text/plain": [
       "<matplotlib.figure.Figure at 0x1c400621ac8>"
      ]
     },
     "metadata": {},
     "output_type": "display_data"
    }
   ],
   "source": [
    "df['Return 3-Year'].hist()"
   ]
  },
  {
   "cell_type": "code",
   "execution_count": 32,
   "metadata": {},
   "outputs": [
    {
     "data": {
      "text/plain": [
       "<matplotlib.axes._subplots.AxesSubplot at 0x1c4006b8780>"
      ]
     },
     "execution_count": 32,
     "metadata": {},
     "output_type": "execute_result"
    },
    {
     "data": {
      "image/png": "[encoded data removed]",
      "text/plain": [
       "<matplotlib.figure.Figure at 0x1c40063fe48>"
      ]
     },
     "metadata": {},
     "output_type": "display_data"
    }
   ],
   "source": [
    "df['Return 5-Year'].hist()"
   ]
  },
  {
   "cell_type": "code",
   "execution_count": 33,
   "metadata": {},
   "outputs": [
    {
     "data": {
      "text/plain": [
       "count    1268.000000\n",
       "mean       16.646569\n",
       "std        14.171696\n",
       "min        -3.340000\n",
       "25%         5.890000\n",
       "50%         8.285000\n",
       "75%        26.965000\n",
       "max        94.000000\n",
       "Name: Return 1-Year, dtype: float64"
      ]
     },
     "execution_count": 33,
     "metadata": {},
     "output_type": "execute_result"
    }
   ],
   "source": [
    "df['Return 1-Year'].describe()"
   ]
  },
  {
   "cell_type": "code",
   "execution_count": 34,
   "metadata": {},
   "outputs": [
    {
     "data": {
      "text/plain": [
       "338"
      ]
     },
     "execution_count": 34,
     "metadata": {},
     "output_type": "execute_result"
    }
   ],
   "source": [
    "df['Return 1-Year'][df['Return 1-Year']>26].count()"
   ]
  },
  {
   "cell_type": "code",
   "execution_count": 35,
   "metadata": {},
   "outputs": [
    {
     "data": {
      "text/plain": [
       "2"
      ]
     },
     "execution_count": 35,
     "metadata": {},
     "output_type": "execute_result"
    }
   ],
   "source": [
    "df['Return 1-Year'][df['Return 1-Year']>65].count()"
   ]
  },
  {
   "cell_type": "code",
   "execution_count": 36,
   "metadata": {},
   "outputs": [
    {
     "data": {
      "text/html": [
       "<div>\n",
       "<style>\n",
       "    .dataframe thead tr:only-child th {\n",
       "        text-align: right;\n",
       "    }\n",
       "\n",
       "    .dataframe thead th {\n",
       "        text-align: left;\n",
       "    }\n",
       "\n",
       "    .dataframe tbody tr th {\n",
       "        vertical-align: top;\n",
       "    }\n",
       "</style>\n",
       "<table border=\"1\" class=\"dataframe\">\n",
       "  <thead>\n",
       "    <tr style=\"text-align: right;\">\n",
       "      <th></th>\n",
       "      <th>Fund</th>\n",
       "      <th>Rating</th>\n",
       "      <th>Return 1-Year</th>\n",
       "      <th>Return 3-Year</th>\n",
       "      <th>Return 5-Year</th>\n",
       "      <th>Return 10-Year</th>\n",
       "      <th>Return 15-Year</th>\n",
       "      <th>Return 20-Year</th>\n",
       "      <th>Category_DT-CO</th>\n",
       "      <th>Category_DT-DB</th>\n",
       "      <th>...</th>\n",
       "      <th>Category_EQ-MLC</th>\n",
       "      <th>Category_EQ-SC</th>\n",
       "      <th>Category_EQ-TS</th>\n",
       "      <th>Category_GL-MLT</th>\n",
       "      <th>Category_GL-ST</th>\n",
       "      <th>Category_HY-AA</th>\n",
       "      <th>Category_HY-AR</th>\n",
       "      <th>Category_HY-DA</th>\n",
       "      <th>Category_HY-DC</th>\n",
       "      <th>Category_HY-EQ</th>\n",
       "    </tr>\n",
       "  </thead>\n",
       "  <tbody>\n",
       "    <tr>\n",
       "      <th>723</th>\n",
       "      <td>SBI Small &amp; Midcap Fund</td>\n",
       "      <td>5</td>\n",
       "      <td>92.13</td>\n",
       "      <td>41.51</td>\n",
       "      <td>42.52</td>\n",
       "      <td>NaN</td>\n",
       "      <td>NaN</td>\n",
       "      <td>NaN</td>\n",
       "      <td>0</td>\n",
       "      <td>0</td>\n",
       "      <td>...</td>\n",
       "      <td>0</td>\n",
       "      <td>1</td>\n",
       "      <td>0</td>\n",
       "      <td>0</td>\n",
       "      <td>0</td>\n",
       "      <td>0</td>\n",
       "      <td>0</td>\n",
       "      <td>0</td>\n",
       "      <td>0</td>\n",
       "      <td>0</td>\n",
       "    </tr>\n",
       "    <tr>\n",
       "      <th>724</th>\n",
       "      <td>SBI Small &amp; Midcap Fund - Direct Plan</td>\n",
       "      <td>5</td>\n",
       "      <td>94.00</td>\n",
       "      <td>43.05</td>\n",
       "      <td>NaN</td>\n",
       "      <td>NaN</td>\n",
       "      <td>NaN</td>\n",
       "      <td>NaN</td>\n",
       "      <td>0</td>\n",
       "      <td>0</td>\n",
       "      <td>...</td>\n",
       "      <td>0</td>\n",
       "      <td>1</td>\n",
       "      <td>0</td>\n",
       "      <td>0</td>\n",
       "      <td>0</td>\n",
       "      <td>0</td>\n",
       "      <td>0</td>\n",
       "      <td>0</td>\n",
       "      <td>0</td>\n",
       "      <td>0</td>\n",
       "    </tr>\n",
       "  </tbody>\n",
       "</table>\n",
       "<p>2 rows × 28 columns</p>\n",
       "</div>"
      ],
      "text/plain": [
       "                                      Fund  Rating  Return 1-Year  \\\n",
       "723                SBI Small & Midcap Fund       5          92.13   \n",
       "724  SBI Small & Midcap Fund - Direct Plan       5          94.00   \n",
       "\n",
       "     Return 3-Year  Return 5-Year  Return 10-Year  Return 15-Year  \\\n",
       "723          41.51          42.52             NaN             NaN   \n",
       "724          43.05            NaN             NaN             NaN   \n",
       "\n",
       "     Return 20-Year  Category_DT-CO       Category_DT-DB       \\\n",
       "723             NaN                    0                    0   \n",
       "724             NaN                    0                    0   \n",
       "\n",
       "            ...           Category_EQ-MLC      Category_EQ-SC       \\\n",
       "723         ...                             0                    1   \n",
       "724         ...                             0                    1   \n",
       "\n",
       "     Category_EQ-TS       Category_GL-MLT      Category_GL-ST       \\\n",
       "723                    0                    0                    0   \n",
       "724                    0                    0                    0   \n",
       "\n",
       "     Category_HY-AA       Category_HY-AR       Category_HY-DA       \\\n",
       "723                    0                    0                    0   \n",
       "724                    0                    0                    0   \n",
       "\n",
       "     Category_HY-DC       Category_HY-EQ       \n",
       "723                    0                    0  \n",
       "724                    0                    0  \n",
       "\n",
       "[2 rows x 28 columns]"
      ]
     },
     "execution_count": 36,
     "metadata": {},
     "output_type": "execute_result"
    }
   ],
   "source": [
    "df[df['Return 1-Year']>65]   #both belong to Category_EQ-SC(Small Cap equity sips)"
   ]
  },
  {
   "cell_type": "code",
   "execution_count": 37,
   "metadata": {},
   "outputs": [
    {
     "data": {
      "text/html": [
       "<div>\n",
       "<style>\n",
       "    .dataframe thead tr:only-child th {\n",
       "        text-align: right;\n",
       "    }\n",
       "\n",
       "    .dataframe thead th {\n",
       "        text-align: left;\n",
       "    }\n",
       "\n",
       "    .dataframe tbody tr th {\n",
       "        vertical-align: top;\n",
       "    }\n",
       "</style>\n",
       "<table border=\"1\" class=\"dataframe\">\n",
       "  <thead>\n",
       "    <tr style=\"text-align: right;\">\n",
       "      <th></th>\n",
       "      <th>0</th>\n",
       "    </tr>\n",
       "  </thead>\n",
       "  <tbody>\n",
       "    <tr>\n",
       "      <th>Fund</th>\n",
       "      <td>Aditya Birla Sun Life Advantage FundAditya Bir...</td>\n",
       "    </tr>\n",
       "    <tr>\n",
       "      <th>Rating</th>\n",
       "      <td>1161</td>\n",
       "    </tr>\n",
       "    <tr>\n",
       "      <th>Return 1-Year</th>\n",
       "      <td>12726.2</td>\n",
       "    </tr>\n",
       "    <tr>\n",
       "      <th>Return 3-Year</th>\n",
       "      <td>7789.03</td>\n",
       "    </tr>\n",
       "    <tr>\n",
       "      <th>Return 5-Year</th>\n",
       "      <td>3634.74</td>\n",
       "    </tr>\n",
       "    <tr>\n",
       "      <th>Return 10-Year</th>\n",
       "      <td>2056.73</td>\n",
       "    </tr>\n",
       "    <tr>\n",
       "      <th>Return 15-Year</th>\n",
       "      <td>730.81</td>\n",
       "    </tr>\n",
       "    <tr>\n",
       "      <th>Return 20-Year</th>\n",
       "      <td>246.89</td>\n",
       "    </tr>\n",
       "    <tr>\n",
       "      <th>Category_DT-CO</th>\n",
       "      <td>0</td>\n",
       "    </tr>\n",
       "    <tr>\n",
       "      <th>Category_DT-DB</th>\n",
       "      <td>0</td>\n",
       "    </tr>\n",
       "    <tr>\n",
       "      <th>Category_DT-INC</th>\n",
       "      <td>0</td>\n",
       "    </tr>\n",
       "    <tr>\n",
       "      <th>Category_DT-LIQ</th>\n",
       "      <td>0</td>\n",
       "    </tr>\n",
       "    <tr>\n",
       "      <th>Category_DT-ST</th>\n",
       "      <td>0</td>\n",
       "    </tr>\n",
       "    <tr>\n",
       "      <th>Category_DT-UST</th>\n",
       "      <td>0</td>\n",
       "    </tr>\n",
       "    <tr>\n",
       "      <th>Category_EQ-BANK</th>\n",
       "      <td>11</td>\n",
       "    </tr>\n",
       "    <tr>\n",
       "      <th>Category_EQ-INFRA</th>\n",
       "      <td>35</td>\n",
       "    </tr>\n",
       "    <tr>\n",
       "      <th>Category_EQ-LC</th>\n",
       "      <td>44</td>\n",
       "    </tr>\n",
       "    <tr>\n",
       "      <th>Category_EQ-MC</th>\n",
       "      <td>76</td>\n",
       "    </tr>\n",
       "    <tr>\n",
       "      <th>Category_EQ-MLC</th>\n",
       "      <td>93</td>\n",
       "    </tr>\n",
       "    <tr>\n",
       "      <th>Category_EQ-SC</th>\n",
       "      <td>20</td>\n",
       "    </tr>\n",
       "    <tr>\n",
       "      <th>Category_EQ-TS</th>\n",
       "      <td>61</td>\n",
       "    </tr>\n",
       "    <tr>\n",
       "      <th>Category_GL-MLT</th>\n",
       "      <td>0</td>\n",
       "    </tr>\n",
       "    <tr>\n",
       "      <th>Category_GL-ST</th>\n",
       "      <td>0</td>\n",
       "    </tr>\n",
       "    <tr>\n",
       "      <th>Category_HY-AA</th>\n",
       "      <td>0</td>\n",
       "    </tr>\n",
       "    <tr>\n",
       "      <th>Category_HY-AR</th>\n",
       "      <td>0</td>\n",
       "    </tr>\n",
       "    <tr>\n",
       "      <th>Category_HY-DA</th>\n",
       "      <td>0</td>\n",
       "    </tr>\n",
       "    <tr>\n",
       "      <th>Category_HY-DC</th>\n",
       "      <td>2</td>\n",
       "    </tr>\n",
       "    <tr>\n",
       "      <th>Category_HY-EQ</th>\n",
       "      <td>14</td>\n",
       "    </tr>\n",
       "  </tbody>\n",
       "</table>\n",
       "</div>"
      ],
      "text/plain": [
       "                                                                     0\n",
       "Fund                 Aditya Birla Sun Life Advantage FundAditya Bir...\n",
       "Rating                                                            1161\n",
       "Return 1-Year                                                  12726.2\n",
       "Return 3-Year                                                  7789.03\n",
       "Return 5-Year                                                  3634.74\n",
       "Return 10-Year                                                 2056.73\n",
       "Return 15-Year                                                  730.81\n",
       "Return 20-Year                                                  246.89\n",
       "Category_DT-CO                                                       0\n",
       "Category_DT-DB                                                       0\n",
       "Category_DT-INC                                                      0\n",
       "Category_DT-LIQ                                                      0\n",
       "Category_DT-ST                                                       0\n",
       "Category_DT-UST                                                      0\n",
       "Category_EQ-BANK                                                    11\n",
       "Category_EQ-INFRA                                                   35\n",
       "Category_EQ-LC                                                      44\n",
       "Category_EQ-MC                                                      76\n",
       "Category_EQ-MLC                                                     93\n",
       "Category_EQ-SC                                                      20\n",
       "Category_EQ-TS                                                      61\n",
       "Category_GL-MLT                                                      0\n",
       "Category_GL-ST                                                       0\n",
       "Category_HY-AA                                                       0\n",
       "Category_HY-AR                                                       0\n",
       "Category_HY-DA                                                       0\n",
       "Category_HY-DC                                                       2\n",
       "Category_HY-EQ                                                      14"
      ]
     },
     "execution_count": 37,
     "metadata": {},
     "output_type": "execute_result"
    }
   ],
   "source": [
    "pd.DataFrame(df[df['Return 1-Year']>25].sum(axis = 0))"
   ]
  },
  {
   "cell_type": "code",
   "execution_count": 38,
   "metadata": {},
   "outputs": [
    {
     "data": {
      "text/plain": [
       "340"
      ]
     },
     "execution_count": 38,
     "metadata": {},
     "output_type": "execute_result"
    }
   ],
   "source": [
    "11+35+44+76+93+20+61"
   ]
  },
  {
   "cell_type": "code",
   "execution_count": 39,
   "metadata": {},
   "outputs": [
    {
     "data": {
      "text/html": [
       "<div>\n",
       "<style>\n",
       "    .dataframe thead tr:only-child th {\n",
       "        text-align: right;\n",
       "    }\n",
       "\n",
       "    .dataframe thead th {\n",
       "        text-align: left;\n",
       "    }\n",
       "\n",
       "    .dataframe tbody tr th {\n",
       "        vertical-align: top;\n",
       "    }\n",
       "</style>\n",
       "<table border=\"1\" class=\"dataframe\">\n",
       "  <thead>\n",
       "    <tr style=\"text-align: right;\">\n",
       "      <th></th>\n",
       "      <th>0</th>\n",
       "    </tr>\n",
       "  </thead>\n",
       "  <tbody>\n",
       "    <tr>\n",
       "      <th>Fund</th>\n",
       "      <td>Aditya Birla Sun Life Mid Cap FundAditya Birla...</td>\n",
       "    </tr>\n",
       "    <tr>\n",
       "      <th>Rating</th>\n",
       "      <td>142</td>\n",
       "    </tr>\n",
       "    <tr>\n",
       "      <th>Return 1-Year</th>\n",
       "      <td>1740.19</td>\n",
       "    </tr>\n",
       "    <tr>\n",
       "      <th>Return 3-Year</th>\n",
       "      <td>1096.33</td>\n",
       "    </tr>\n",
       "    <tr>\n",
       "      <th>Return 5-Year</th>\n",
       "      <td>1219.55</td>\n",
       "    </tr>\n",
       "    <tr>\n",
       "      <th>Return 10-Year</th>\n",
       "      <td>610.15</td>\n",
       "    </tr>\n",
       "    <tr>\n",
       "      <th>Return 15-Year</th>\n",
       "      <td>96.29</td>\n",
       "    </tr>\n",
       "    <tr>\n",
       "      <th>Return 20-Year</th>\n",
       "      <td>24.92</td>\n",
       "    </tr>\n",
       "    <tr>\n",
       "      <th>Category_DT-CO</th>\n",
       "      <td>0</td>\n",
       "    </tr>\n",
       "    <tr>\n",
       "      <th>Category_DT-DB</th>\n",
       "      <td>0</td>\n",
       "    </tr>\n",
       "    <tr>\n",
       "      <th>Category_DT-INC</th>\n",
       "      <td>0</td>\n",
       "    </tr>\n",
       "    <tr>\n",
       "      <th>Category_DT-LIQ</th>\n",
       "      <td>0</td>\n",
       "    </tr>\n",
       "    <tr>\n",
       "      <th>Category_DT-ST</th>\n",
       "      <td>0</td>\n",
       "    </tr>\n",
       "    <tr>\n",
       "      <th>Category_DT-UST</th>\n",
       "      <td>0</td>\n",
       "    </tr>\n",
       "    <tr>\n",
       "      <th>Category_EQ-BANK</th>\n",
       "      <td>1</td>\n",
       "    </tr>\n",
       "    <tr>\n",
       "      <th>Category_EQ-INFRA</th>\n",
       "      <td>4</td>\n",
       "    </tr>\n",
       "    <tr>\n",
       "      <th>Category_EQ-LC</th>\n",
       "      <td>0</td>\n",
       "    </tr>\n",
       "    <tr>\n",
       "      <th>Category_EQ-MC</th>\n",
       "      <td>25</td>\n",
       "    </tr>\n",
       "    <tr>\n",
       "      <th>Category_EQ-MLC</th>\n",
       "      <td>2</td>\n",
       "    </tr>\n",
       "    <tr>\n",
       "      <th>Category_EQ-SC</th>\n",
       "      <td>8</td>\n",
       "    </tr>\n",
       "    <tr>\n",
       "      <th>Category_EQ-TS</th>\n",
       "      <td>2</td>\n",
       "    </tr>\n",
       "    <tr>\n",
       "      <th>Category_GL-MLT</th>\n",
       "      <td>0</td>\n",
       "    </tr>\n",
       "    <tr>\n",
       "      <th>Category_GL-ST</th>\n",
       "      <td>0</td>\n",
       "    </tr>\n",
       "    <tr>\n",
       "      <th>Category_HY-AA</th>\n",
       "      <td>0</td>\n",
       "    </tr>\n",
       "    <tr>\n",
       "      <th>Category_HY-AR</th>\n",
       "      <td>0</td>\n",
       "    </tr>\n",
       "    <tr>\n",
       "      <th>Category_HY-DA</th>\n",
       "      <td>0</td>\n",
       "    </tr>\n",
       "    <tr>\n",
       "      <th>Category_HY-DC</th>\n",
       "      <td>0</td>\n",
       "    </tr>\n",
       "    <tr>\n",
       "      <th>Category_HY-EQ</th>\n",
       "      <td>0</td>\n",
       "    </tr>\n",
       "  </tbody>\n",
       "</table>\n",
       "</div>"
      ],
      "text/plain": [
       "                                                                     0\n",
       "Fund                 Aditya Birla Sun Life Mid Cap FundAditya Birla...\n",
       "Rating                                                             142\n",
       "Return 1-Year                                                  1740.19\n",
       "Return 3-Year                                                  1096.33\n",
       "Return 5-Year                                                  1219.55\n",
       "Return 10-Year                                                  610.15\n",
       "Return 15-Year                                                   96.29\n",
       "Return 20-Year                                                   24.92\n",
       "Category_DT-CO                                                       0\n",
       "Category_DT-DB                                                       0\n",
       "Category_DT-INC                                                      0\n",
       "Category_DT-LIQ                                                      0\n",
       "Category_DT-ST                                                       0\n",
       "Category_DT-UST                                                      0\n",
       "Category_EQ-BANK                                                     1\n",
       "Category_EQ-INFRA                                                    4\n",
       "Category_EQ-LC                                                       0\n",
       "Category_EQ-MC                                                      25\n",
       "Category_EQ-MLC                                                      2\n",
       "Category_EQ-SC                                                       8\n",
       "Category_EQ-TS                                                       2\n",
       "Category_GL-MLT                                                      0\n",
       "Category_GL-ST                                                       0\n",
       "Category_HY-AA                                                       0\n",
       "Category_HY-AR                                                       0\n",
       "Category_HY-DA                                                       0\n",
       "Category_HY-DC                                                       0\n",
       "Category_HY-EQ                                                       0"
      ]
     },
     "execution_count": 39,
     "metadata": {},
     "output_type": "execute_result"
    }
   ],
   "source": [
    "pd.DataFrame(df[df['Return 5-Year']>25].sum(axis = 0))"
   ]
  },
  {
   "cell_type": "code",
   "execution_count": 40,
   "metadata": {},
   "outputs": [
    {
     "data": {
      "text/html": [
       "<div>\n",
       "<style>\n",
       "    .dataframe thead tr:only-child th {\n",
       "        text-align: right;\n",
       "    }\n",
       "\n",
       "    .dataframe thead th {\n",
       "        text-align: left;\n",
       "    }\n",
       "\n",
       "    .dataframe tbody tr th {\n",
       "        vertical-align: top;\n",
       "    }\n",
       "</style>\n",
       "<table border=\"1\" class=\"dataframe\">\n",
       "  <thead>\n",
       "    <tr style=\"text-align: right;\">\n",
       "      <th></th>\n",
       "      <th>0</th>\n",
       "    </tr>\n",
       "  </thead>\n",
       "  <tbody>\n",
       "    <tr>\n",
       "      <th>Fund</th>\n",
       "      <td>Aditya Birla Sun Life Banking &amp; Financial Serv...</td>\n",
       "    </tr>\n",
       "    <tr>\n",
       "      <th>Rating</th>\n",
       "      <td>246</td>\n",
       "    </tr>\n",
       "    <tr>\n",
       "      <th>Return 1-Year</th>\n",
       "      <td>3043.08</td>\n",
       "    </tr>\n",
       "    <tr>\n",
       "      <th>Return 3-Year</th>\n",
       "      <td>1880.82</td>\n",
       "    </tr>\n",
       "    <tr>\n",
       "      <th>Return 5-Year</th>\n",
       "      <td>689.97</td>\n",
       "    </tr>\n",
       "    <tr>\n",
       "      <th>Return 10-Year</th>\n",
       "      <td>250.96</td>\n",
       "    </tr>\n",
       "    <tr>\n",
       "      <th>Return 15-Year</th>\n",
       "      <td>33.72</td>\n",
       "    </tr>\n",
       "    <tr>\n",
       "      <th>Return 20-Year</th>\n",
       "      <td>19.14</td>\n",
       "    </tr>\n",
       "    <tr>\n",
       "      <th>Category_DT-CO</th>\n",
       "      <td>0</td>\n",
       "    </tr>\n",
       "    <tr>\n",
       "      <th>Category_DT-DB</th>\n",
       "      <td>0</td>\n",
       "    </tr>\n",
       "    <tr>\n",
       "      <th>Category_DT-INC</th>\n",
       "      <td>0</td>\n",
       "    </tr>\n",
       "    <tr>\n",
       "      <th>Category_DT-LIQ</th>\n",
       "      <td>0</td>\n",
       "    </tr>\n",
       "    <tr>\n",
       "      <th>Category_DT-ST</th>\n",
       "      <td>0</td>\n",
       "    </tr>\n",
       "    <tr>\n",
       "      <th>Category_DT-UST</th>\n",
       "      <td>0</td>\n",
       "    </tr>\n",
       "    <tr>\n",
       "      <th>Category_EQ-BANK</th>\n",
       "      <td>5</td>\n",
       "    </tr>\n",
       "    <tr>\n",
       "      <th>Category_EQ-INFRA</th>\n",
       "      <td>9</td>\n",
       "    </tr>\n",
       "    <tr>\n",
       "      <th>Category_EQ-LC</th>\n",
       "      <td>1</td>\n",
       "    </tr>\n",
       "    <tr>\n",
       "      <th>Category_EQ-MC</th>\n",
       "      <td>19</td>\n",
       "    </tr>\n",
       "    <tr>\n",
       "      <th>Category_EQ-MLC</th>\n",
       "      <td>9</td>\n",
       "    </tr>\n",
       "    <tr>\n",
       "      <th>Category_EQ-SC</th>\n",
       "      <td>18</td>\n",
       "    </tr>\n",
       "    <tr>\n",
       "      <th>Category_EQ-TS</th>\n",
       "      <td>4</td>\n",
       "    </tr>\n",
       "    <tr>\n",
       "      <th>Category_GL-MLT</th>\n",
       "      <td>0</td>\n",
       "    </tr>\n",
       "    <tr>\n",
       "      <th>Category_GL-ST</th>\n",
       "      <td>0</td>\n",
       "    </tr>\n",
       "    <tr>\n",
       "      <th>Category_HY-AA</th>\n",
       "      <td>0</td>\n",
       "    </tr>\n",
       "    <tr>\n",
       "      <th>Category_HY-AR</th>\n",
       "      <td>0</td>\n",
       "    </tr>\n",
       "    <tr>\n",
       "      <th>Category_HY-DA</th>\n",
       "      <td>0</td>\n",
       "    </tr>\n",
       "    <tr>\n",
       "      <th>Category_HY-DC</th>\n",
       "      <td>0</td>\n",
       "    </tr>\n",
       "    <tr>\n",
       "      <th>Category_HY-EQ</th>\n",
       "      <td>0</td>\n",
       "    </tr>\n",
       "  </tbody>\n",
       "</table>\n",
       "</div>"
      ],
      "text/plain": [
       "                                                                     0\n",
       "Fund                 Aditya Birla Sun Life Banking & Financial Serv...\n",
       "Rating                                                             246\n",
       "Return 1-Year                                                  3043.08\n",
       "Return 3-Year                                                  1880.82\n",
       "Return 5-Year                                                   689.97\n",
       "Return 10-Year                                                  250.96\n",
       "Return 15-Year                                                   33.72\n",
       "Return 20-Year                                                   19.14\n",
       "Category_DT-CO                                                       0\n",
       "Category_DT-DB                                                       0\n",
       "Category_DT-INC                                                      0\n",
       "Category_DT-LIQ                                                      0\n",
       "Category_DT-ST                                                       0\n",
       "Category_DT-UST                                                      0\n",
       "Category_EQ-BANK                                                     5\n",
       "Category_EQ-INFRA                                                    9\n",
       "Category_EQ-LC                                                       1\n",
       "Category_EQ-MC                                                      19\n",
       "Category_EQ-MLC                                                      9\n",
       "Category_EQ-SC                                                      18\n",
       "Category_EQ-TS                                                       4\n",
       "Category_GL-MLT                                                      0\n",
       "Category_GL-ST                                                       0\n",
       "Category_HY-AA                                                       0\n",
       "Category_HY-AR                                                       0\n",
       "Category_HY-DA                                                       0\n",
       "Category_HY-DC                                                       0\n",
       "Category_HY-EQ                                                       0"
      ]
     },
     "execution_count": 40,
     "metadata": {},
     "output_type": "execute_result"
    }
   ],
   "source": [
    "pd.DataFrame(df[df['Return 3-Year']>25].sum(axis = 0))"
   ]
  },
  {
   "cell_type": "code",
   "execution_count": 41,
   "metadata": {
    "collapsed": true
   },
   "outputs": [],
   "source": [
    "#pd.DataFrame(df['Fund'][ (df['Return 1-Year']>25) & (df['Category_EQ-MLC    ']==1)])"
   ]
  },
  {
   "cell_type": "code",
   "execution_count": 42,
   "metadata": {},
   "outputs": [
    {
     "data": {
      "text/plain": [
       "Index(['Fund', 'Rating', 'Return 1-Year', 'Return 3-Year', 'Return 5-Year',\n",
       "       'Return 10-Year', 'Return 15-Year', 'Return 20-Year',\n",
       "       'Category_DT-CO     ', 'Category_DT-DB     ', 'Category_DT-INC    ',\n",
       "       'Category_DT-LIQ    ', 'Category_DT-ST     ', 'Category_DT-UST    ',\n",
       "       'Category_EQ-BANK   ', 'Category_EQ-INFRA  ', 'Category_EQ-LC     ',\n",
       "       'Category_EQ-MC     ', 'Category_EQ-MLC    ', 'Category_EQ-SC     ',\n",
       "       'Category_EQ-TS     ', 'Category_GL-MLT    ', 'Category_GL-ST     ',\n",
       "       'Category_HY-AA     ', 'Category_HY-AR     ', 'Category_HY-DA     ',\n",
       "       'Category_HY-DC     ', 'Category_HY-EQ     '],\n",
       "      dtype='object')"
      ]
     },
     "execution_count": 42,
     "metadata": {},
     "output_type": "execute_result"
    }
   ],
   "source": [
    "df.columns"
   ]
  },
  {
   "cell_type": "code",
   "execution_count": 43,
   "metadata": {},
   "outputs": [
    {
     "data": {
      "text/html": [
       "<div>\n",
       "<style>\n",
       "    .dataframe thead tr:only-child th {\n",
       "        text-align: right;\n",
       "    }\n",
       "\n",
       "    .dataframe thead th {\n",
       "        text-align: left;\n",
       "    }\n",
       "\n",
       "    .dataframe tbody tr th {\n",
       "        vertical-align: top;\n",
       "    }\n",
       "</style>\n",
       "<table border=\"1\" class=\"dataframe\">\n",
       "  <thead>\n",
       "    <tr style=\"text-align: right;\">\n",
       "      <th></th>\n",
       "      <th>0</th>\n",
       "    </tr>\n",
       "  </thead>\n",
       "  <tbody>\n",
       "    <tr>\n",
       "      <th>Fund</th>\n",
       "      <td>Aditya Birla Sun Life Advantage FundAditya Bir...</td>\n",
       "    </tr>\n",
       "    <tr>\n",
       "      <th>Rating</th>\n",
       "      <td>65</td>\n",
       "    </tr>\n",
       "    <tr>\n",
       "      <th>Return 1-Year</th>\n",
       "      <td>599.14</td>\n",
       "    </tr>\n",
       "    <tr>\n",
       "      <th>Return 3-Year</th>\n",
       "      <td>382.4</td>\n",
       "    </tr>\n",
       "    <tr>\n",
       "      <th>Return 5-Year</th>\n",
       "      <td>408.55</td>\n",
       "    </tr>\n",
       "    <tr>\n",
       "      <th>Return 10-Year</th>\n",
       "      <td>343.34</td>\n",
       "    </tr>\n",
       "    <tr>\n",
       "      <th>Return 15-Year</th>\n",
       "      <td>374.86</td>\n",
       "    </tr>\n",
       "    <tr>\n",
       "      <th>Return 20-Year</th>\n",
       "      <td>413.7</td>\n",
       "    </tr>\n",
       "    <tr>\n",
       "      <th>Category_DT-CO</th>\n",
       "      <td>0</td>\n",
       "    </tr>\n",
       "    <tr>\n",
       "      <th>Category_DT-DB</th>\n",
       "      <td>0</td>\n",
       "    </tr>\n",
       "    <tr>\n",
       "      <th>Category_DT-INC</th>\n",
       "      <td>0</td>\n",
       "    </tr>\n",
       "    <tr>\n",
       "      <th>Category_DT-LIQ</th>\n",
       "      <td>0</td>\n",
       "    </tr>\n",
       "    <tr>\n",
       "      <th>Category_DT-ST</th>\n",
       "      <td>0</td>\n",
       "    </tr>\n",
       "    <tr>\n",
       "      <th>Category_DT-UST</th>\n",
       "      <td>0</td>\n",
       "    </tr>\n",
       "    <tr>\n",
       "      <th>Category_EQ-BANK</th>\n",
       "      <td>0</td>\n",
       "    </tr>\n",
       "    <tr>\n",
       "      <th>Category_EQ-INFRA</th>\n",
       "      <td>0</td>\n",
       "    </tr>\n",
       "    <tr>\n",
       "      <th>Category_EQ-LC</th>\n",
       "      <td>8</td>\n",
       "    </tr>\n",
       "    <tr>\n",
       "      <th>Category_EQ-MC</th>\n",
       "      <td>1</td>\n",
       "    </tr>\n",
       "    <tr>\n",
       "      <th>Category_EQ-MLC</th>\n",
       "      <td>5</td>\n",
       "    </tr>\n",
       "    <tr>\n",
       "      <th>Category_EQ-SC</th>\n",
       "      <td>0</td>\n",
       "    </tr>\n",
       "    <tr>\n",
       "      <th>Category_EQ-TS</th>\n",
       "      <td>4</td>\n",
       "    </tr>\n",
       "    <tr>\n",
       "      <th>Category_GL-MLT</th>\n",
       "      <td>0</td>\n",
       "    </tr>\n",
       "    <tr>\n",
       "      <th>Category_GL-ST</th>\n",
       "      <td>0</td>\n",
       "    </tr>\n",
       "    <tr>\n",
       "      <th>Category_HY-AA</th>\n",
       "      <td>0</td>\n",
       "    </tr>\n",
       "    <tr>\n",
       "      <th>Category_HY-AR</th>\n",
       "      <td>0</td>\n",
       "    </tr>\n",
       "    <tr>\n",
       "      <th>Category_HY-DA</th>\n",
       "      <td>0</td>\n",
       "    </tr>\n",
       "    <tr>\n",
       "      <th>Category_HY-DC</th>\n",
       "      <td>0</td>\n",
       "    </tr>\n",
       "    <tr>\n",
       "      <th>Category_HY-EQ</th>\n",
       "      <td>3</td>\n",
       "    </tr>\n",
       "  </tbody>\n",
       "</table>\n",
       "</div>"
      ],
      "text/plain": [
       "                                                                     0\n",
       "Fund                 Aditya Birla Sun Life Advantage FundAditya Bir...\n",
       "Rating                                                              65\n",
       "Return 1-Year                                                   599.14\n",
       "Return 3-Year                                                    382.4\n",
       "Return 5-Year                                                   408.55\n",
       "Return 10-Year                                                  343.34\n",
       "Return 15-Year                                                  374.86\n",
       "Return 20-Year                                                   413.7\n",
       "Category_DT-CO                                                       0\n",
       "Category_DT-DB                                                       0\n",
       "Category_DT-INC                                                      0\n",
       "Category_DT-LIQ                                                      0\n",
       "Category_DT-ST                                                       0\n",
       "Category_DT-UST                                                      0\n",
       "Category_EQ-BANK                                                     0\n",
       "Category_EQ-INFRA                                                    0\n",
       "Category_EQ-LC                                                       8\n",
       "Category_EQ-MC                                                       1\n",
       "Category_EQ-MLC                                                      5\n",
       "Category_EQ-SC                                                       0\n",
       "Category_EQ-TS                                                       4\n",
       "Category_GL-MLT                                                      0\n",
       "Category_GL-ST                                                       0\n",
       "Category_HY-AA                                                       0\n",
       "Category_HY-AR                                                       0\n",
       "Category_HY-DA                                                       0\n",
       "Category_HY-DC                                                       0\n",
       "Category_HY-EQ                                                       3"
      ]
     },
     "execution_count": 43,
     "metadata": {},
     "output_type": "execute_result"
    }
   ],
   "source": [
    "pd.DataFrame(df[df['Return 20-Year']>15].sum(axis = 0))"
   ]
  },
  {
   "cell_type": "code",
   "execution_count": 44,
   "metadata": {},
   "outputs": [
    {
     "data": {
      "text/html": [
       "<div>\n",
       "<style>\n",
       "    .dataframe thead tr:only-child th {\n",
       "        text-align: right;\n",
       "    }\n",
       "\n",
       "    .dataframe thead th {\n",
       "        text-align: left;\n",
       "    }\n",
       "\n",
       "    .dataframe tbody tr th {\n",
       "        vertical-align: top;\n",
       "    }\n",
       "</style>\n",
       "<table border=\"1\" class=\"dataframe\">\n",
       "  <thead>\n",
       "    <tr style=\"text-align: right;\">\n",
       "      <th></th>\n",
       "      <th>Fund</th>\n",
       "    </tr>\n",
       "  </thead>\n",
       "  <tbody>\n",
       "    <tr>\n",
       "      <th>2</th>\n",
       "      <td>Aditya Birla Sun Life Advantage Fund</td>\n",
       "    </tr>\n",
       "    <tr>\n",
       "      <th>249</th>\n",
       "      <td>DSP BlackRock Equity Fund</td>\n",
       "    </tr>\n",
       "    <tr>\n",
       "      <th>391</th>\n",
       "      <td>Franklin India Prima Plus Fund</td>\n",
       "    </tr>\n",
       "    <tr>\n",
       "      <th>597</th>\n",
       "      <td>Templeton India Growth Fund</td>\n",
       "    </tr>\n",
       "    <tr>\n",
       "      <th>709</th>\n",
       "      <td>SBI Magnum Multiplier Fund</td>\n",
       "    </tr>\n",
       "  </tbody>\n",
       "</table>\n",
       "</div>"
      ],
      "text/plain": [
       "                                     Fund\n",
       "2    Aditya Birla Sun Life Advantage Fund\n",
       "249             DSP BlackRock Equity Fund\n",
       "391        Franklin India Prima Plus Fund\n",
       "597           Templeton India Growth Fund\n",
       "709            SBI Magnum Multiplier Fund"
      ]
     },
     "execution_count": 44,
     "metadata": {},
     "output_type": "execute_result"
    }
   ],
   "source": [
    "pd.DataFrame(df['Fund'][ (df['Return 20-Year']>15) & (df['Category_EQ-MLC    ']==1)])"
   ]
  },
  {
   "cell_type": "code",
   "execution_count": 45,
   "metadata": {},
   "outputs": [
    {
     "data": {
      "text/html": [
       "<div>\n",
       "<style>\n",
       "    .dataframe thead tr:only-child th {\n",
       "        text-align: right;\n",
       "    }\n",
       "\n",
       "    .dataframe thead th {\n",
       "        text-align: left;\n",
       "    }\n",
       "\n",
       "    .dataframe tbody tr th {\n",
       "        vertical-align: top;\n",
       "    }\n",
       "</style>\n",
       "<table border=\"1\" class=\"dataframe\">\n",
       "  <thead>\n",
       "    <tr style=\"text-align: right;\">\n",
       "      <th></th>\n",
       "      <th>Fund</th>\n",
       "    </tr>\n",
       "  </thead>\n",
       "  <tbody>\n",
       "    <tr>\n",
       "      <th>389</th>\n",
       "      <td>Franklin India Prima Fund</td>\n",
       "    </tr>\n",
       "  </tbody>\n",
       "</table>\n",
       "</div>"
      ],
      "text/plain": [
       "                          Fund\n",
       "389  Franklin India Prima Fund"
      ]
     },
     "execution_count": 45,
     "metadata": {},
     "output_type": "execute_result"
    }
   ],
   "source": [
    "pd.DataFrame(df['Fund'][ (df['Return 20-Year']>15) & (df['Category_EQ-MC     ']==1)])"
   ]
  },
  {
   "cell_type": "code",
   "execution_count": 46,
   "metadata": {
    "collapsed": true
   },
   "outputs": [],
   "source": [
    "# We are observing a general trend that all the Multi Cap and Mid Cap Equities are showing a relatively better return (above  \n",
    "# 25 %)all other (even if combined ) whether its a 1-year,5-year or 20-year"
   ]
  },
  {
   "cell_type": "code",
   "execution_count": null,
   "metadata": {
    "collapsed": true
   },
   "outputs": [],
   "source": []
  },
  {
   "cell_type": "code",
   "execution_count": 47,
   "metadata": {},
   "outputs": [
    {
     "data": {
      "text/html": [
       "<div>\n",
       "<style>\n",
       "    .dataframe thead tr:only-child th {\n",
       "        text-align: right;\n",
       "    }\n",
       "\n",
       "    .dataframe thead th {\n",
       "        text-align: left;\n",
       "    }\n",
       "\n",
       "    .dataframe tbody tr th {\n",
       "        vertical-align: top;\n",
       "    }\n",
       "</style>\n",
       "<table border=\"1\" class=\"dataframe\">\n",
       "  <thead>\n",
       "    <tr style=\"text-align: right;\">\n",
       "      <th></th>\n",
       "      <th>0</th>\n",
       "    </tr>\n",
       "  </thead>\n",
       "  <tbody>\n",
       "    <tr>\n",
       "      <th>Fund</th>\n",
       "      <td>Aditya Birla Sun Life Advantage FundAditya Bir...</td>\n",
       "    </tr>\n",
       "    <tr>\n",
       "      <th>Rating</th>\n",
       "      <td>655</td>\n",
       "    </tr>\n",
       "    <tr>\n",
       "      <th>Return 1-Year</th>\n",
       "      <td>6786.01</td>\n",
       "    </tr>\n",
       "    <tr>\n",
       "      <th>Return 3-Year</th>\n",
       "      <td>4258.21</td>\n",
       "    </tr>\n",
       "    <tr>\n",
       "      <th>Return 5-Year</th>\n",
       "      <td>4500.23</td>\n",
       "    </tr>\n",
       "    <tr>\n",
       "      <th>Return 10-Year</th>\n",
       "      <td>2671.75</td>\n",
       "    </tr>\n",
       "    <tr>\n",
       "      <th>Return 15-Year</th>\n",
       "      <td>1158.5</td>\n",
       "    </tr>\n",
       "    <tr>\n",
       "      <th>Return 20-Year</th>\n",
       "      <td>413.7</td>\n",
       "    </tr>\n",
       "    <tr>\n",
       "      <th>Category_DT-CO</th>\n",
       "      <td>0</td>\n",
       "    </tr>\n",
       "    <tr>\n",
       "      <th>Category_DT-DB</th>\n",
       "      <td>0</td>\n",
       "    </tr>\n",
       "    <tr>\n",
       "      <th>Category_DT-INC</th>\n",
       "      <td>0</td>\n",
       "    </tr>\n",
       "    <tr>\n",
       "      <th>Category_DT-LIQ</th>\n",
       "      <td>0</td>\n",
       "    </tr>\n",
       "    <tr>\n",
       "      <th>Category_DT-ST</th>\n",
       "      <td>0</td>\n",
       "    </tr>\n",
       "    <tr>\n",
       "      <th>Category_DT-UST</th>\n",
       "      <td>0</td>\n",
       "    </tr>\n",
       "    <tr>\n",
       "      <th>Category_EQ-BANK</th>\n",
       "      <td>8</td>\n",
       "    </tr>\n",
       "    <tr>\n",
       "      <th>Category_EQ-INFRA</th>\n",
       "      <td>17</td>\n",
       "    </tr>\n",
       "    <tr>\n",
       "      <th>Category_EQ-LC</th>\n",
       "      <td>41</td>\n",
       "    </tr>\n",
       "    <tr>\n",
       "      <th>Category_EQ-MC</th>\n",
       "      <td>35</td>\n",
       "    </tr>\n",
       "    <tr>\n",
       "      <th>Category_EQ-MLC</th>\n",
       "      <td>49</td>\n",
       "    </tr>\n",
       "    <tr>\n",
       "      <th>Category_EQ-SC</th>\n",
       "      <td>8</td>\n",
       "    </tr>\n",
       "    <tr>\n",
       "      <th>Category_EQ-TS</th>\n",
       "      <td>33</td>\n",
       "    </tr>\n",
       "    <tr>\n",
       "      <th>Category_GL-MLT</th>\n",
       "      <td>0</td>\n",
       "    </tr>\n",
       "    <tr>\n",
       "      <th>Category_GL-ST</th>\n",
       "      <td>0</td>\n",
       "    </tr>\n",
       "    <tr>\n",
       "      <th>Category_HY-AA</th>\n",
       "      <td>0</td>\n",
       "    </tr>\n",
       "    <tr>\n",
       "      <th>Category_HY-AR</th>\n",
       "      <td>0</td>\n",
       "    </tr>\n",
       "    <tr>\n",
       "      <th>Category_HY-DA</th>\n",
       "      <td>0</td>\n",
       "    </tr>\n",
       "    <tr>\n",
       "      <th>Category_HY-DC</th>\n",
       "      <td>1</td>\n",
       "    </tr>\n",
       "    <tr>\n",
       "      <th>Category_HY-EQ</th>\n",
       "      <td>18</td>\n",
       "    </tr>\n",
       "  </tbody>\n",
       "</table>\n",
       "</div>"
      ],
      "text/plain": [
       "                                                                     0\n",
       "Fund                 Aditya Birla Sun Life Advantage FundAditya Bir...\n",
       "Rating                                                             655\n",
       "Return 1-Year                                                  6786.01\n",
       "Return 3-Year                                                  4258.21\n",
       "Return 5-Year                                                  4500.23\n",
       "Return 10-Year                                                 2671.75\n",
       "Return 15-Year                                                  1158.5\n",
       "Return 20-Year                                                   413.7\n",
       "Category_DT-CO                                                       0\n",
       "Category_DT-DB                                                       0\n",
       "Category_DT-INC                                                      0\n",
       "Category_DT-LIQ                                                      0\n",
       "Category_DT-ST                                                       0\n",
       "Category_DT-UST                                                      0\n",
       "Category_EQ-BANK                                                     8\n",
       "Category_EQ-INFRA                                                   17\n",
       "Category_EQ-LC                                                      41\n",
       "Category_EQ-MC                                                      35\n",
       "Category_EQ-MLC                                                     49\n",
       "Category_EQ-SC                                                       8\n",
       "Category_EQ-TS                                                      33\n",
       "Category_GL-MLT                                                      0\n",
       "Category_GL-ST                                                       0\n",
       "Category_HY-AA                                                       0\n",
       "Category_HY-AR                                                       0\n",
       "Category_HY-DA                                                       0\n",
       "Category_HY-DC                                                       1\n",
       "Category_HY-EQ                                                      18"
      ]
     },
     "execution_count": 47,
     "metadata": {},
     "output_type": "execute_result"
    }
   ],
   "source": [
    "pd.DataFrame(df[df['Return 5-Year']>15].sum(axis = 0))"
   ]
  },
  {
   "cell_type": "code",
   "execution_count": null,
   "metadata": {
    "collapsed": true
   },
   "outputs": [],
   "source": []
  },
  {
   "cell_type": "code",
   "execution_count": null,
   "metadata": {
    "collapsed": true
   },
   "outputs": [],
   "source": []
  },
  {
   "cell_type": "code",
   "execution_count": 48,
   "metadata": {},
   "outputs": [
    {
     "data": {
      "text/html": [
       "<div>\n",
       "<style>\n",
       "    .dataframe thead tr:only-child th {\n",
       "        text-align: right;\n",
       "    }\n",
       "\n",
       "    .dataframe thead th {\n",
       "        text-align: left;\n",
       "    }\n",
       "\n",
       "    .dataframe tbody tr th {\n",
       "        vertical-align: top;\n",
       "    }\n",
       "</style>\n",
       "<table border=\"1\" class=\"dataframe\">\n",
       "  <thead>\n",
       "    <tr style=\"text-align: right;\">\n",
       "      <th></th>\n",
       "      <th>0</th>\n",
       "    </tr>\n",
       "  </thead>\n",
       "  <tbody>\n",
       "    <tr>\n",
       "      <th>Fund</th>\n",
       "      <td>Aditya Birla Sun Life Advantage FundAditya Bir...</td>\n",
       "    </tr>\n",
       "    <tr>\n",
       "      <th>Rating</th>\n",
       "      <td>1675</td>\n",
       "    </tr>\n",
       "    <tr>\n",
       "      <th>Return 1-Year</th>\n",
       "      <td>16917.1</td>\n",
       "    </tr>\n",
       "    <tr>\n",
       "      <th>Return 3-Year</th>\n",
       "      <td>10672.6</td>\n",
       "    </tr>\n",
       "    <tr>\n",
       "      <th>Return 5-Year</th>\n",
       "      <td>5157.9</td>\n",
       "    </tr>\n",
       "    <tr>\n",
       "      <th>Return 10-Year</th>\n",
       "      <td>3043.02</td>\n",
       "    </tr>\n",
       "    <tr>\n",
       "      <th>Return 15-Year</th>\n",
       "      <td>1412.62</td>\n",
       "    </tr>\n",
       "    <tr>\n",
       "      <th>Return 20-Year</th>\n",
       "      <td>408.4</td>\n",
       "    </tr>\n",
       "    <tr>\n",
       "      <th>Category_DT-CO</th>\n",
       "      <td>0</td>\n",
       "    </tr>\n",
       "    <tr>\n",
       "      <th>Category_DT-DB</th>\n",
       "      <td>0</td>\n",
       "    </tr>\n",
       "    <tr>\n",
       "      <th>Category_DT-INC</th>\n",
       "      <td>0</td>\n",
       "    </tr>\n",
       "    <tr>\n",
       "      <th>Category_DT-LIQ</th>\n",
       "      <td>0</td>\n",
       "    </tr>\n",
       "    <tr>\n",
       "      <th>Category_DT-ST</th>\n",
       "      <td>0</td>\n",
       "    </tr>\n",
       "    <tr>\n",
       "      <th>Category_DT-UST</th>\n",
       "      <td>0</td>\n",
       "    </tr>\n",
       "    <tr>\n",
       "      <th>Category_EQ-BANK</th>\n",
       "      <td>19</td>\n",
       "    </tr>\n",
       "    <tr>\n",
       "      <th>Category_EQ-INFRA</th>\n",
       "      <td>35</td>\n",
       "    </tr>\n",
       "    <tr>\n",
       "      <th>Category_EQ-LC</th>\n",
       "      <td>152</td>\n",
       "    </tr>\n",
       "    <tr>\n",
       "      <th>Category_EQ-MC</th>\n",
       "      <td>79</td>\n",
       "    </tr>\n",
       "    <tr>\n",
       "      <th>Category_EQ-MLC</th>\n",
       "      <td>110</td>\n",
       "    </tr>\n",
       "    <tr>\n",
       "      <th>Category_EQ-SC</th>\n",
       "      <td>20</td>\n",
       "    </tr>\n",
       "    <tr>\n",
       "      <th>Category_EQ-TS</th>\n",
       "      <td>69</td>\n",
       "    </tr>\n",
       "    <tr>\n",
       "      <th>Category_GL-MLT</th>\n",
       "      <td>0</td>\n",
       "    </tr>\n",
       "    <tr>\n",
       "      <th>Category_GL-ST</th>\n",
       "      <td>0</td>\n",
       "    </tr>\n",
       "    <tr>\n",
       "      <th>Category_HY-AA</th>\n",
       "      <td>2</td>\n",
       "    </tr>\n",
       "    <tr>\n",
       "      <th>Category_HY-AR</th>\n",
       "      <td>0</td>\n",
       "    </tr>\n",
       "    <tr>\n",
       "      <th>Category_HY-DA</th>\n",
       "      <td>8</td>\n",
       "    </tr>\n",
       "    <tr>\n",
       "      <th>Category_HY-DC</th>\n",
       "      <td>2</td>\n",
       "    </tr>\n",
       "    <tr>\n",
       "      <th>Category_HY-EQ</th>\n",
       "      <td>53</td>\n",
       "    </tr>\n",
       "  </tbody>\n",
       "</table>\n",
       "</div>"
      ],
      "text/plain": [
       "                                                                     0\n",
       "Fund                 Aditya Birla Sun Life Advantage FundAditya Bir...\n",
       "Rating                                                            1675\n",
       "Return 1-Year                                                  16917.1\n",
       "Return 3-Year                                                  10672.6\n",
       "Return 5-Year                                                   5157.9\n",
       "Return 10-Year                                                 3043.02\n",
       "Return 15-Year                                                 1412.62\n",
       "Return 20-Year                                                   408.4\n",
       "Category_DT-CO                                                       0\n",
       "Category_DT-DB                                                       0\n",
       "Category_DT-INC                                                      0\n",
       "Category_DT-LIQ                                                      0\n",
       "Category_DT-ST                                                       0\n",
       "Category_DT-UST                                                      0\n",
       "Category_EQ-BANK                                                    19\n",
       "Category_EQ-INFRA                                                   35\n",
       "Category_EQ-LC                                                     152\n",
       "Category_EQ-MC                                                      79\n",
       "Category_EQ-MLC                                                    110\n",
       "Category_EQ-SC                                                      20\n",
       "Category_EQ-TS                                                      69\n",
       "Category_GL-MLT                                                      0\n",
       "Category_GL-ST                                                       0\n",
       "Category_HY-AA                                                       2\n",
       "Category_HY-AR                                                       0\n",
       "Category_HY-DA                                                       8\n",
       "Category_HY-DC                                                       2\n",
       "Category_HY-EQ                                                      53"
      ]
     },
     "execution_count": 48,
     "metadata": {},
     "output_type": "execute_result"
    }
   ],
   "source": [
    "pd.DataFrame(df[df['Return 1-Year']>15].sum(axis = 0))"
   ]
  },
  {
   "cell_type": "code",
   "execution_count": 49,
   "metadata": {},
   "outputs": [
    {
     "data": {
      "text/html": [
       "<div>\n",
       "<style>\n",
       "    .dataframe thead tr:only-child th {\n",
       "        text-align: right;\n",
       "    }\n",
       "\n",
       "    .dataframe thead th {\n",
       "        text-align: left;\n",
       "    }\n",
       "\n",
       "    .dataframe tbody tr th {\n",
       "        vertical-align: top;\n",
       "    }\n",
       "</style>\n",
       "<table border=\"1\" class=\"dataframe\">\n",
       "  <thead>\n",
       "    <tr style=\"text-align: right;\">\n",
       "      <th></th>\n",
       "      <th>0</th>\n",
       "    </tr>\n",
       "  </thead>\n",
       "  <tbody>\n",
       "    <tr>\n",
       "      <th>Fund</th>\n",
       "      <td>Aditya Birla Sun Life Advantage FundAditya Bir...</td>\n",
       "    </tr>\n",
       "    <tr>\n",
       "      <th>Rating</th>\n",
       "      <td>65</td>\n",
       "    </tr>\n",
       "    <tr>\n",
       "      <th>Return 1-Year</th>\n",
       "      <td>599.14</td>\n",
       "    </tr>\n",
       "    <tr>\n",
       "      <th>Return 3-Year</th>\n",
       "      <td>382.4</td>\n",
       "    </tr>\n",
       "    <tr>\n",
       "      <th>Return 5-Year</th>\n",
       "      <td>408.55</td>\n",
       "    </tr>\n",
       "    <tr>\n",
       "      <th>Return 10-Year</th>\n",
       "      <td>343.34</td>\n",
       "    </tr>\n",
       "    <tr>\n",
       "      <th>Return 15-Year</th>\n",
       "      <td>374.86</td>\n",
       "    </tr>\n",
       "    <tr>\n",
       "      <th>Return 20-Year</th>\n",
       "      <td>413.7</td>\n",
       "    </tr>\n",
       "    <tr>\n",
       "      <th>Category_DT-CO</th>\n",
       "      <td>0</td>\n",
       "    </tr>\n",
       "    <tr>\n",
       "      <th>Category_DT-DB</th>\n",
       "      <td>0</td>\n",
       "    </tr>\n",
       "    <tr>\n",
       "      <th>Category_DT-INC</th>\n",
       "      <td>0</td>\n",
       "    </tr>\n",
       "    <tr>\n",
       "      <th>Category_DT-LIQ</th>\n",
       "      <td>0</td>\n",
       "    </tr>\n",
       "    <tr>\n",
       "      <th>Category_DT-ST</th>\n",
       "      <td>0</td>\n",
       "    </tr>\n",
       "    <tr>\n",
       "      <th>Category_DT-UST</th>\n",
       "      <td>0</td>\n",
       "    </tr>\n",
       "    <tr>\n",
       "      <th>Category_EQ-BANK</th>\n",
       "      <td>0</td>\n",
       "    </tr>\n",
       "    <tr>\n",
       "      <th>Category_EQ-INFRA</th>\n",
       "      <td>0</td>\n",
       "    </tr>\n",
       "    <tr>\n",
       "      <th>Category_EQ-LC</th>\n",
       "      <td>8</td>\n",
       "    </tr>\n",
       "    <tr>\n",
       "      <th>Category_EQ-MC</th>\n",
       "      <td>1</td>\n",
       "    </tr>\n",
       "    <tr>\n",
       "      <th>Category_EQ-MLC</th>\n",
       "      <td>5</td>\n",
       "    </tr>\n",
       "    <tr>\n",
       "      <th>Category_EQ-SC</th>\n",
       "      <td>0</td>\n",
       "    </tr>\n",
       "    <tr>\n",
       "      <th>Category_EQ-TS</th>\n",
       "      <td>4</td>\n",
       "    </tr>\n",
       "    <tr>\n",
       "      <th>Category_GL-MLT</th>\n",
       "      <td>0</td>\n",
       "    </tr>\n",
       "    <tr>\n",
       "      <th>Category_GL-ST</th>\n",
       "      <td>0</td>\n",
       "    </tr>\n",
       "    <tr>\n",
       "      <th>Category_HY-AA</th>\n",
       "      <td>0</td>\n",
       "    </tr>\n",
       "    <tr>\n",
       "      <th>Category_HY-AR</th>\n",
       "      <td>0</td>\n",
       "    </tr>\n",
       "    <tr>\n",
       "      <th>Category_HY-DA</th>\n",
       "      <td>0</td>\n",
       "    </tr>\n",
       "    <tr>\n",
       "      <th>Category_HY-DC</th>\n",
       "      <td>0</td>\n",
       "    </tr>\n",
       "    <tr>\n",
       "      <th>Category_HY-EQ</th>\n",
       "      <td>3</td>\n",
       "    </tr>\n",
       "  </tbody>\n",
       "</table>\n",
       "</div>"
      ],
      "text/plain": [
       "                                                                     0\n",
       "Fund                 Aditya Birla Sun Life Advantage FundAditya Bir...\n",
       "Rating                                                              65\n",
       "Return 1-Year                                                   599.14\n",
       "Return 3-Year                                                    382.4\n",
       "Return 5-Year                                                   408.55\n",
       "Return 10-Year                                                  343.34\n",
       "Return 15-Year                                                  374.86\n",
       "Return 20-Year                                                   413.7\n",
       "Category_DT-CO                                                       0\n",
       "Category_DT-DB                                                       0\n",
       "Category_DT-INC                                                      0\n",
       "Category_DT-LIQ                                                      0\n",
       "Category_DT-ST                                                       0\n",
       "Category_DT-UST                                                      0\n",
       "Category_EQ-BANK                                                     0\n",
       "Category_EQ-INFRA                                                    0\n",
       "Category_EQ-LC                                                       8\n",
       "Category_EQ-MC                                                       1\n",
       "Category_EQ-MLC                                                      5\n",
       "Category_EQ-SC                                                       0\n",
       "Category_EQ-TS                                                       4\n",
       "Category_GL-MLT                                                      0\n",
       "Category_GL-ST                                                       0\n",
       "Category_HY-AA                                                       0\n",
       "Category_HY-AR                                                       0\n",
       "Category_HY-DA                                                       0\n",
       "Category_HY-DC                                                       0\n",
       "Category_HY-EQ                                                       3"
      ]
     },
     "execution_count": 49,
     "metadata": {},
     "output_type": "execute_result"
    }
   ],
   "source": [
    "pd.DataFrame(df[df['Return 20-Year']>15].sum(axis = 0))"
   ]
  },
  {
   "cell_type": "code",
   "execution_count": 50,
   "metadata": {},
   "outputs": [
    {
     "data": {
      "text/html": [
       "<div>\n",
       "<style>\n",
       "    .dataframe thead tr:only-child th {\n",
       "        text-align: right;\n",
       "    }\n",
       "\n",
       "    .dataframe thead th {\n",
       "        text-align: left;\n",
       "    }\n",
       "\n",
       "    .dataframe tbody tr th {\n",
       "        vertical-align: top;\n",
       "    }\n",
       "</style>\n",
       "<table border=\"1\" class=\"dataframe\">\n",
       "  <thead>\n",
       "    <tr style=\"text-align: right;\">\n",
       "      <th></th>\n",
       "      <th>0</th>\n",
       "    </tr>\n",
       "  </thead>\n",
       "  <tbody>\n",
       "    <tr>\n",
       "      <th>Fund</th>\n",
       "      <td>Aditya Birla Sun Life Advantage FundAditya Bir...</td>\n",
       "    </tr>\n",
       "    <tr>\n",
       "      <th>Rating</th>\n",
       "      <td>655</td>\n",
       "    </tr>\n",
       "    <tr>\n",
       "      <th>Return 1-Year</th>\n",
       "      <td>6786.01</td>\n",
       "    </tr>\n",
       "    <tr>\n",
       "      <th>Return 3-Year</th>\n",
       "      <td>4258.21</td>\n",
       "    </tr>\n",
       "    <tr>\n",
       "      <th>Return 5-Year</th>\n",
       "      <td>4500.23</td>\n",
       "    </tr>\n",
       "    <tr>\n",
       "      <th>Return 10-Year</th>\n",
       "      <td>2671.75</td>\n",
       "    </tr>\n",
       "    <tr>\n",
       "      <th>Return 15-Year</th>\n",
       "      <td>1158.5</td>\n",
       "    </tr>\n",
       "    <tr>\n",
       "      <th>Return 20-Year</th>\n",
       "      <td>413.7</td>\n",
       "    </tr>\n",
       "    <tr>\n",
       "      <th>Category_DT-CO</th>\n",
       "      <td>0</td>\n",
       "    </tr>\n",
       "    <tr>\n",
       "      <th>Category_DT-DB</th>\n",
       "      <td>0</td>\n",
       "    </tr>\n",
       "    <tr>\n",
       "      <th>Category_DT-INC</th>\n",
       "      <td>0</td>\n",
       "    </tr>\n",
       "    <tr>\n",
       "      <th>Category_DT-LIQ</th>\n",
       "      <td>0</td>\n",
       "    </tr>\n",
       "    <tr>\n",
       "      <th>Category_DT-ST</th>\n",
       "      <td>0</td>\n",
       "    </tr>\n",
       "    <tr>\n",
       "      <th>Category_DT-UST</th>\n",
       "      <td>0</td>\n",
       "    </tr>\n",
       "    <tr>\n",
       "      <th>Category_EQ-BANK</th>\n",
       "      <td>8</td>\n",
       "    </tr>\n",
       "    <tr>\n",
       "      <th>Category_EQ-INFRA</th>\n",
       "      <td>17</td>\n",
       "    </tr>\n",
       "    <tr>\n",
       "      <th>Category_EQ-LC</th>\n",
       "      <td>41</td>\n",
       "    </tr>\n",
       "    <tr>\n",
       "      <th>Category_EQ-MC</th>\n",
       "      <td>35</td>\n",
       "    </tr>\n",
       "    <tr>\n",
       "      <th>Category_EQ-MLC</th>\n",
       "      <td>49</td>\n",
       "    </tr>\n",
       "    <tr>\n",
       "      <th>Category_EQ-SC</th>\n",
       "      <td>8</td>\n",
       "    </tr>\n",
       "    <tr>\n",
       "      <th>Category_EQ-TS</th>\n",
       "      <td>33</td>\n",
       "    </tr>\n",
       "    <tr>\n",
       "      <th>Category_GL-MLT</th>\n",
       "      <td>0</td>\n",
       "    </tr>\n",
       "    <tr>\n",
       "      <th>Category_GL-ST</th>\n",
       "      <td>0</td>\n",
       "    </tr>\n",
       "    <tr>\n",
       "      <th>Category_HY-AA</th>\n",
       "      <td>0</td>\n",
       "    </tr>\n",
       "    <tr>\n",
       "      <th>Category_HY-AR</th>\n",
       "      <td>0</td>\n",
       "    </tr>\n",
       "    <tr>\n",
       "      <th>Category_HY-DA</th>\n",
       "      <td>0</td>\n",
       "    </tr>\n",
       "    <tr>\n",
       "      <th>Category_HY-DC</th>\n",
       "      <td>1</td>\n",
       "    </tr>\n",
       "    <tr>\n",
       "      <th>Category_HY-EQ</th>\n",
       "      <td>18</td>\n",
       "    </tr>\n",
       "  </tbody>\n",
       "</table>\n",
       "</div>"
      ],
      "text/plain": [
       "                                                                     0\n",
       "Fund                 Aditya Birla Sun Life Advantage FundAditya Bir...\n",
       "Rating                                                             655\n",
       "Return 1-Year                                                  6786.01\n",
       "Return 3-Year                                                  4258.21\n",
       "Return 5-Year                                                  4500.23\n",
       "Return 10-Year                                                 2671.75\n",
       "Return 15-Year                                                  1158.5\n",
       "Return 20-Year                                                   413.7\n",
       "Category_DT-CO                                                       0\n",
       "Category_DT-DB                                                       0\n",
       "Category_DT-INC                                                      0\n",
       "Category_DT-LIQ                                                      0\n",
       "Category_DT-ST                                                       0\n",
       "Category_DT-UST                                                      0\n",
       "Category_EQ-BANK                                                     8\n",
       "Category_EQ-INFRA                                                   17\n",
       "Category_EQ-LC                                                      41\n",
       "Category_EQ-MC                                                      35\n",
       "Category_EQ-MLC                                                     49\n",
       "Category_EQ-SC                                                       8\n",
       "Category_EQ-TS                                                      33\n",
       "Category_GL-MLT                                                      0\n",
       "Category_GL-ST                                                       0\n",
       "Category_HY-AA                                                       0\n",
       "Category_HY-AR                                                       0\n",
       "Category_HY-DA                                                       0\n",
       "Category_HY-DC                                                       1\n",
       "Category_HY-EQ                                                      18"
      ]
     },
     "execution_count": 50,
     "metadata": {},
     "output_type": "execute_result"
    }
   ],
   "source": [
    "pd.DataFrame(df[df['Return 5-Year']>15].sum(axis = 0))"
   ]
  },
  {
   "cell_type": "code",
   "execution_count": 51,
   "metadata": {
    "collapsed": true
   },
   "outputs": [],
   "source": [
    "#When it comes to return upto 15% or above the Multi Cap ,MidCap and Large Cap equities perform as well. \n",
    "#Large Cap performs exceptionally well when it comes to moderate return for one year\n",
    "#For more return above 25% mutli cap performs the best"
   ]
  },
  {
   "cell_type": "code",
   "execution_count": 52,
   "metadata": {
    "collapsed": true
   },
   "outputs": [],
   "source": [
    "#Large Caps performs the best in the long term investmet for returns 25% or above"
   ]
  },
  {
   "cell_type": "code",
   "execution_count": 53,
   "metadata": {},
   "outputs": [
    {
     "data": {
      "text/plain": [
       "356"
      ]
     },
     "execution_count": 53,
     "metadata": {},
     "output_type": "execute_result"
    }
   ],
   "source": [
    "df['Return 1-Year'][df['Return 1-Year']>25].count()"
   ]
  },
  {
   "cell_type": "code",
   "execution_count": 54,
   "metadata": {},
   "outputs": [
    {
     "data": {
      "text/plain": [
       "65"
      ]
     },
     "execution_count": 54,
     "metadata": {},
     "output_type": "execute_result"
    }
   ],
   "source": [
    "df['Return 1-Year'][df['Return 3-Year']>25].count()"
   ]
  },
  {
   "cell_type": "code",
   "execution_count": 55,
   "metadata": {},
   "outputs": [
    {
     "data": {
      "text/plain": [
       "42"
      ]
     },
     "execution_count": 55,
     "metadata": {},
     "output_type": "execute_result"
    }
   ],
   "source": [
    "df['Return 1-Year'][df['Return 5-Year']>25].count()"
   ]
  },
  {
   "cell_type": "code",
   "execution_count": 56,
   "metadata": {},
   "outputs": [
    {
     "data": {
      "text/plain": [
       "0"
      ]
     },
     "execution_count": 56,
     "metadata": {},
     "output_type": "execute_result"
    }
   ],
   "source": [
    "df['Return 1-Year'][df['Return 20-Year']>26].count()"
   ]
  },
  {
   "cell_type": "code",
   "execution_count": 57,
   "metadata": {},
   "outputs": [
    {
     "data": {
      "text/plain": [
       "193"
      ]
     },
     "execution_count": 57,
     "metadata": {},
     "output_type": "execute_result"
    }
   ],
   "source": [
    "df['Return 1-Year'][(df['Return 1-Year']>15) & (df['Return 1-Year']<25)].count()"
   ]
  },
  {
   "cell_type": "code",
   "execution_count": 58,
   "metadata": {},
   "outputs": [
    {
     "data": {
      "text/plain": [
       "362"
      ]
     },
     "execution_count": 58,
     "metadata": {},
     "output_type": "execute_result"
    }
   ],
   "source": [
    "df['Return 1-Year'][(df['Return 3-Year']>15) &((df['Return 3-Year']<25))].count()"
   ]
  },
  {
   "cell_type": "code",
   "execution_count": 59,
   "metadata": {},
   "outputs": [
    {
     "data": {
      "text/plain": [
       "168"
      ]
     },
     "execution_count": 59,
     "metadata": {},
     "output_type": "execute_result"
    }
   ],
   "source": [
    "df['Return 1-Year'][(df['Return 5-Year']>15) & ((df['Return 5-Year']<25))].count()"
   ]
  },
  {
   "cell_type": "code",
   "execution_count": 60,
   "metadata": {},
   "outputs": [
    {
     "data": {
      "text/plain": [
       "20"
      ]
     },
     "execution_count": 60,
     "metadata": {},
     "output_type": "execute_result"
    }
   ],
   "source": [
    "df['Return 1-Year'][(df['Return 20-Year']>15) & ((df['Return 20-Year']<25))].count()"
   ]
  },
  {
   "cell_type": "code",
   "execution_count": 61,
   "metadata": {
    "collapsed": true
   },
   "outputs": [],
   "source": [
    "#Short term investmets(less than 3 years) : one can get very large returns .\n",
    "#Returns decrease as the investment increase 3 years"
   ]
  },
  {
   "cell_type": "code",
   "execution_count": 62,
   "metadata": {},
   "outputs": [
    {
     "data": {
      "text/html": [
       "<div>\n",
       "<style>\n",
       "    .dataframe thead tr:only-child th {\n",
       "        text-align: right;\n",
       "    }\n",
       "\n",
       "    .dataframe thead th {\n",
       "        text-align: left;\n",
       "    }\n",
       "\n",
       "    .dataframe tbody tr th {\n",
       "        vertical-align: top;\n",
       "    }\n",
       "</style>\n",
       "<table border=\"1\" class=\"dataframe\">\n",
       "  <thead>\n",
       "    <tr style=\"text-align: right;\">\n",
       "      <th></th>\n",
       "      <th>Fund</th>\n",
       "      <th>Rating</th>\n",
       "      <th>Return 1-Year</th>\n",
       "      <th>Return 3-Year</th>\n",
       "      <th>Return 5-Year</th>\n",
       "      <th>Return 10-Year</th>\n",
       "      <th>Return 15-Year</th>\n",
       "      <th>Return 20-Year</th>\n",
       "      <th>Category_DT-CO</th>\n",
       "      <th>Category_DT-DB</th>\n",
       "      <th>...</th>\n",
       "      <th>Category_EQ-MLC</th>\n",
       "      <th>Category_EQ-SC</th>\n",
       "      <th>Category_EQ-TS</th>\n",
       "      <th>Category_GL-MLT</th>\n",
       "      <th>Category_GL-ST</th>\n",
       "      <th>Category_HY-AA</th>\n",
       "      <th>Category_HY-AR</th>\n",
       "      <th>Category_HY-DA</th>\n",
       "      <th>Category_HY-DC</th>\n",
       "      <th>Category_HY-EQ</th>\n",
       "    </tr>\n",
       "  </thead>\n",
       "  <tbody>\n",
       "    <tr>\n",
       "      <th>0</th>\n",
       "      <td>Aditya Birla Sun Life Active Debt Multi-Manage...</td>\n",
       "      <td>2</td>\n",
       "      <td>1.76</td>\n",
       "      <td>6.83</td>\n",
       "      <td>7.85</td>\n",
       "      <td>7.94</td>\n",
       "      <td>NaN</td>\n",
       "      <td>NaN</td>\n",
       "      <td>0</td>\n",
       "      <td>0</td>\n",
       "      <td>...</td>\n",
       "      <td>0</td>\n",
       "      <td>0</td>\n",
       "      <td>0</td>\n",
       "      <td>0</td>\n",
       "      <td>0</td>\n",
       "      <td>0</td>\n",
       "      <td>0</td>\n",
       "      <td>0</td>\n",
       "      <td>0</td>\n",
       "      <td>0</td>\n",
       "    </tr>\n",
       "    <tr>\n",
       "      <th>1</th>\n",
       "      <td>Aditya Birla Sun Life Active Debt Multi-Manage...</td>\n",
       "      <td>3</td>\n",
       "      <td>2.27</td>\n",
       "      <td>7.37</td>\n",
       "      <td>NaN</td>\n",
       "      <td>NaN</td>\n",
       "      <td>NaN</td>\n",
       "      <td>NaN</td>\n",
       "      <td>0</td>\n",
       "      <td>0</td>\n",
       "      <td>...</td>\n",
       "      <td>0</td>\n",
       "      <td>0</td>\n",
       "      <td>0</td>\n",
       "      <td>0</td>\n",
       "      <td>0</td>\n",
       "      <td>0</td>\n",
       "      <td>0</td>\n",
       "      <td>0</td>\n",
       "      <td>0</td>\n",
       "      <td>0</td>\n",
       "    </tr>\n",
       "    <tr>\n",
       "      <th>2</th>\n",
       "      <td>Aditya Birla Sun Life Advantage Fund</td>\n",
       "      <td>5</td>\n",
       "      <td>31.67</td>\n",
       "      <td>22.29</td>\n",
       "      <td>24.79</td>\n",
       "      <td>18.50</td>\n",
       "      <td>17.69</td>\n",
       "      <td>18.67</td>\n",
       "      <td>0</td>\n",
       "      <td>0</td>\n",
       "      <td>...</td>\n",
       "      <td>1</td>\n",
       "      <td>0</td>\n",
       "      <td>0</td>\n",
       "      <td>0</td>\n",
       "      <td>0</td>\n",
       "      <td>0</td>\n",
       "      <td>0</td>\n",
       "      <td>0</td>\n",
       "      <td>0</td>\n",
       "      <td>0</td>\n",
       "    </tr>\n",
       "    <tr>\n",
       "      <th>3</th>\n",
       "      <td>Aditya Birla Sun Life Advantage Fund - Direct ...</td>\n",
       "      <td>5</td>\n",
       "      <td>33.37</td>\n",
       "      <td>23.75</td>\n",
       "      <td>NaN</td>\n",
       "      <td>NaN</td>\n",
       "      <td>NaN</td>\n",
       "      <td>NaN</td>\n",
       "      <td>0</td>\n",
       "      <td>0</td>\n",
       "      <td>...</td>\n",
       "      <td>1</td>\n",
       "      <td>0</td>\n",
       "      <td>0</td>\n",
       "      <td>0</td>\n",
       "      <td>0</td>\n",
       "      <td>0</td>\n",
       "      <td>0</td>\n",
       "      <td>0</td>\n",
       "      <td>0</td>\n",
       "      <td>0</td>\n",
       "    </tr>\n",
       "    <tr>\n",
       "      <th>4</th>\n",
       "      <td>Aditya Birla Sun Life Balanced '95 Fund</td>\n",
       "      <td>4</td>\n",
       "      <td>20.62</td>\n",
       "      <td>15.97</td>\n",
       "      <td>18.14</td>\n",
       "      <td>16.32</td>\n",
       "      <td>17.33</td>\n",
       "      <td>19.02</td>\n",
       "      <td>0</td>\n",
       "      <td>0</td>\n",
       "      <td>...</td>\n",
       "      <td>0</td>\n",
       "      <td>0</td>\n",
       "      <td>0</td>\n",
       "      <td>0</td>\n",
       "      <td>0</td>\n",
       "      <td>0</td>\n",
       "      <td>0</td>\n",
       "      <td>0</td>\n",
       "      <td>0</td>\n",
       "      <td>1</td>\n",
       "    </tr>\n",
       "  </tbody>\n",
       "</table>\n",
       "<p>5 rows × 28 columns</p>\n",
       "</div>"
      ],
      "text/plain": [
       "                                                Fund  Rating  Return 1-Year  \\\n",
       "0  Aditya Birla Sun Life Active Debt Multi-Manage...       2           1.76   \n",
       "1  Aditya Birla Sun Life Active Debt Multi-Manage...       3           2.27   \n",
       "2               Aditya Birla Sun Life Advantage Fund       5          31.67   \n",
       "3  Aditya Birla Sun Life Advantage Fund - Direct ...       5          33.37   \n",
       "4            Aditya Birla Sun Life Balanced '95 Fund       4          20.62   \n",
       "\n",
       "   Return 3-Year  Return 5-Year  Return 10-Year  Return 15-Year  \\\n",
       "0           6.83           7.85            7.94             NaN   \n",
       "1           7.37            NaN             NaN             NaN   \n",
       "2          22.29          24.79           18.50           17.69   \n",
       "3          23.75            NaN             NaN             NaN   \n",
       "4          15.97          18.14           16.32           17.33   \n",
       "\n",
       "   Return 20-Year  Category_DT-CO       Category_DT-DB       \\\n",
       "0             NaN                    0                    0   \n",
       "1             NaN                    0                    0   \n",
       "2           18.67                    0                    0   \n",
       "3             NaN                    0                    0   \n",
       "4           19.02                    0                    0   \n",
       "\n",
       "          ...           Category_EQ-MLC      Category_EQ-SC       \\\n",
       "0         ...                             0                    0   \n",
       "1         ...                             0                    0   \n",
       "2         ...                             1                    0   \n",
       "3         ...                             1                    0   \n",
       "4         ...                             0                    0   \n",
       "\n",
       "   Category_EQ-TS       Category_GL-MLT      Category_GL-ST       \\\n",
       "0                    0                    0                    0   \n",
       "1                    0                    0                    0   \n",
       "2                    0                    0                    0   \n",
       "3                    0                    0                    0   \n",
       "4                    0                    0                    0   \n",
       "\n",
       "   Category_HY-AA       Category_HY-AR       Category_HY-DA       \\\n",
       "0                    0                    0                    0   \n",
       "1                    0                    0                    0   \n",
       "2                    0                    0                    0   \n",
       "3                    0                    0                    0   \n",
       "4                    0                    0                    0   \n",
       "\n",
       "   Category_HY-DC       Category_HY-EQ       \n",
       "0                    0                    0  \n",
       "1                    0                    0  \n",
       "2                    0                    0  \n",
       "3                    0                    0  \n",
       "4                    0                    1  \n",
       "\n",
       "[5 rows x 28 columns]"
      ]
     },
     "execution_count": 62,
     "metadata": {},
     "output_type": "execute_result"
    }
   ],
   "source": [
    "df.head()"
   ]
  },
  {
   "cell_type": "code",
   "execution_count": 63,
   "metadata": {},
   "outputs": [
    {
     "data": {
      "text/plain": [
       "count    1268.000000\n",
       "mean       16.646569\n",
       "std        14.171696\n",
       "min        -3.340000\n",
       "25%         5.890000\n",
       "50%         8.285000\n",
       "75%        26.965000\n",
       "max        94.000000\n",
       "Name: Return 1-Year, dtype: float64"
      ]
     },
     "execution_count": 63,
     "metadata": {},
     "output_type": "execute_result"
    }
   ],
   "source": [
    "df['Return 1-Year'].describe()"
   ]
  },
  {
   "cell_type": "code",
   "execution_count": 64,
   "metadata": {},
   "outputs": [
    {
     "data": {
      "text/plain": [
       "count    1247.000000\n",
       "mean       12.948099\n",
       "std         6.806361\n",
       "min         2.520000\n",
       "25%         7.455000\n",
       "50%         9.480000\n",
       "75%        17.650000\n",
       "max        43.050000\n",
       "Name: Return 3-Year, dtype: float64"
      ]
     },
     "execution_count": 64,
     "metadata": {},
     "output_type": "execute_result"
    }
   ],
   "source": [
    "df['Return 3-Year'].describe()"
   ]
  },
  {
   "cell_type": "code",
   "execution_count": 65,
   "metadata": {},
   "outputs": [
    {
     "data": {
      "text/plain": [
       "count    575.000000\n",
       "mean      13.585843\n",
       "std        6.863156\n",
       "min        3.370000\n",
       "25%        7.955000\n",
       "50%       10.580000\n",
       "75%       18.370000\n",
       "max       42.520000\n",
       "Name: Return 5-Year, dtype: float64"
      ]
     },
     "execution_count": 65,
     "metadata": {},
     "output_type": "execute_result"
    }
   ],
   "source": [
    "df['Return 5-Year'].describe()"
   ]
  },
  {
   "cell_type": "code",
   "execution_count": 66,
   "metadata": {},
   "outputs": [
    {
     "data": {
      "text/plain": [
       "count    410.000000\n",
       "mean      11.993756\n",
       "std        4.579931\n",
       "min        6.170000\n",
       "25%        8.182500\n",
       "50%       10.240000\n",
       "75%       15.527500\n",
       "max       27.990000\n",
       "Name: Return 10-Year, dtype: float64"
      ]
     },
     "execution_count": 66,
     "metadata": {},
     "output_type": "execute_result"
    }
   ],
   "source": [
    "df['Return 10-Year'].describe()"
   ]
  },
  {
   "cell_type": "code",
   "execution_count": 67,
   "metadata": {},
   "outputs": [
    {
     "data": {
      "text/plain": [
       "count    173.000000\n",
       "mean      12.233179\n",
       "std        4.780315\n",
       "min        5.020000\n",
       "25%        7.890000\n",
       "50%       11.340000\n",
       "75%       16.840000\n",
       "max       24.890000\n",
       "Name: Return 15-Year, dtype: float64"
      ]
     },
     "execution_count": 67,
     "metadata": {},
     "output_type": "execute_result"
    }
   ],
   "source": [
    "df['Return 15-Year'].describe()"
   ]
  },
  {
   "cell_type": "code",
   "execution_count": 68,
   "metadata": {
    "collapsed": true
   },
   "outputs": [],
   "source": [
    "# As the size of investmentt increases the maximum return one can get tends to decrease but the minimum return tends to \n",
    "# increase.This means that once the investment period increaes the risk of loosing money decreases. "
   ]
  },
  {
   "cell_type": "code",
   "execution_count": 69,
   "metadata": {
    "collapsed": true
   },
   "outputs": [],
   "source": [
    "# Also the returns of most of the SIPs(75 percentile) decreases as the size of investment increase"
   ]
  },
  {
   "cell_type": "code",
   "execution_count": 70,
   "metadata": {},
   "outputs": [
    {
     "data": {
      "text/plain": [
       "21"
      ]
     },
     "execution_count": 70,
     "metadata": {},
     "output_type": "execute_result"
    }
   ],
   "source": [
    "df['Return 1-Year'][df['Return 1-Year']<0].count()"
   ]
  },
  {
   "cell_type": "code",
   "execution_count": 71,
   "metadata": {},
   "outputs": [
    {
     "data": {
      "text/html": [
       "<div>\n",
       "<style>\n",
       "    .dataframe thead tr:only-child th {\n",
       "        text-align: right;\n",
       "    }\n",
       "\n",
       "    .dataframe thead th {\n",
       "        text-align: left;\n",
       "    }\n",
       "\n",
       "    .dataframe tbody tr th {\n",
       "        vertical-align: top;\n",
       "    }\n",
       "</style>\n",
       "<table border=\"1\" class=\"dataframe\">\n",
       "  <thead>\n",
       "    <tr style=\"text-align: right;\">\n",
       "      <th></th>\n",
       "      <th>0</th>\n",
       "    </tr>\n",
       "  </thead>\n",
       "  <tbody>\n",
       "    <tr>\n",
       "      <th>Fund</th>\n",
       "      <td>Aditya Birla Sun Life Constant Maturity 10 Yea...</td>\n",
       "    </tr>\n",
       "    <tr>\n",
       "      <th>Rating</th>\n",
       "      <td>42</td>\n",
       "    </tr>\n",
       "    <tr>\n",
       "      <th>Return 1-Year</th>\n",
       "      <td>-22.36</td>\n",
       "    </tr>\n",
       "    <tr>\n",
       "      <th>Return 3-Year</th>\n",
       "      <td>116.56</td>\n",
       "    </tr>\n",
       "    <tr>\n",
       "      <th>Return 5-Year</th>\n",
       "      <td>104.84</td>\n",
       "    </tr>\n",
       "    <tr>\n",
       "      <th>Return 10-Year</th>\n",
       "      <td>93.02</td>\n",
       "    </tr>\n",
       "    <tr>\n",
       "      <th>Return 15-Year</th>\n",
       "      <td>67.99</td>\n",
       "    </tr>\n",
       "    <tr>\n",
       "      <th>Return 20-Year</th>\n",
       "      <td>None</td>\n",
       "    </tr>\n",
       "    <tr>\n",
       "      <th>Category_DT-CO</th>\n",
       "      <td>0</td>\n",
       "    </tr>\n",
       "    <tr>\n",
       "      <th>Category_DT-DB</th>\n",
       "      <td>1</td>\n",
       "    </tr>\n",
       "    <tr>\n",
       "      <th>Category_DT-INC</th>\n",
       "      <td>2</td>\n",
       "    </tr>\n",
       "    <tr>\n",
       "      <th>Category_DT-LIQ</th>\n",
       "      <td>0</td>\n",
       "    </tr>\n",
       "    <tr>\n",
       "      <th>Category_DT-ST</th>\n",
       "      <td>0</td>\n",
       "    </tr>\n",
       "    <tr>\n",
       "      <th>Category_DT-UST</th>\n",
       "      <td>0</td>\n",
       "    </tr>\n",
       "    <tr>\n",
       "      <th>Category_EQ-BANK</th>\n",
       "      <td>0</td>\n",
       "    </tr>\n",
       "    <tr>\n",
       "      <th>Category_EQ-INFRA</th>\n",
       "      <td>0</td>\n",
       "    </tr>\n",
       "    <tr>\n",
       "      <th>Category_EQ-LC</th>\n",
       "      <td>0</td>\n",
       "    </tr>\n",
       "    <tr>\n",
       "      <th>Category_EQ-MC</th>\n",
       "      <td>0</td>\n",
       "    </tr>\n",
       "    <tr>\n",
       "      <th>Category_EQ-MLC</th>\n",
       "      <td>0</td>\n",
       "    </tr>\n",
       "    <tr>\n",
       "      <th>Category_EQ-SC</th>\n",
       "      <td>0</td>\n",
       "    </tr>\n",
       "    <tr>\n",
       "      <th>Category_EQ-TS</th>\n",
       "      <td>0</td>\n",
       "    </tr>\n",
       "    <tr>\n",
       "      <th>Category_GL-MLT</th>\n",
       "      <td>18</td>\n",
       "    </tr>\n",
       "    <tr>\n",
       "      <th>Category_GL-ST</th>\n",
       "      <td>0</td>\n",
       "    </tr>\n",
       "    <tr>\n",
       "      <th>Category_HY-AA</th>\n",
       "      <td>0</td>\n",
       "    </tr>\n",
       "    <tr>\n",
       "      <th>Category_HY-AR</th>\n",
       "      <td>0</td>\n",
       "    </tr>\n",
       "    <tr>\n",
       "      <th>Category_HY-DA</th>\n",
       "      <td>0</td>\n",
       "    </tr>\n",
       "    <tr>\n",
       "      <th>Category_HY-DC</th>\n",
       "      <td>0</td>\n",
       "    </tr>\n",
       "    <tr>\n",
       "      <th>Category_HY-EQ</th>\n",
       "      <td>0</td>\n",
       "    </tr>\n",
       "  </tbody>\n",
       "</table>\n",
       "</div>"
      ],
      "text/plain": [
       "                                                                     0\n",
       "Fund                 Aditya Birla Sun Life Constant Maturity 10 Yea...\n",
       "Rating                                                              42\n",
       "Return 1-Year                                                   -22.36\n",
       "Return 3-Year                                                   116.56\n",
       "Return 5-Year                                                   104.84\n",
       "Return 10-Year                                                   93.02\n",
       "Return 15-Year                                                   67.99\n",
       "Return 20-Year                                                    None\n",
       "Category_DT-CO                                                       0\n",
       "Category_DT-DB                                                       1\n",
       "Category_DT-INC                                                      2\n",
       "Category_DT-LIQ                                                      0\n",
       "Category_DT-ST                                                       0\n",
       "Category_DT-UST                                                      0\n",
       "Category_EQ-BANK                                                     0\n",
       "Category_EQ-INFRA                                                    0\n",
       "Category_EQ-LC                                                       0\n",
       "Category_EQ-MC                                                       0\n",
       "Category_EQ-MLC                                                      0\n",
       "Category_EQ-SC                                                       0\n",
       "Category_EQ-TS                                                       0\n",
       "Category_GL-MLT                                                     18\n",
       "Category_GL-ST                                                       0\n",
       "Category_HY-AA                                                       0\n",
       "Category_HY-AR                                                       0\n",
       "Category_HY-DA                                                       0\n",
       "Category_HY-DC                                                       0\n",
       "Category_HY-EQ                                                       0"
      ]
     },
     "execution_count": 71,
     "metadata": {},
     "output_type": "execute_result"
    }
   ],
   "source": [
    "#Some SIPs can tend to loose you your money\n",
    "pd.DataFrame(df[df['Return 1-Year']<0].sum(axis=0))"
   ]
  },
  {
   "cell_type": "code",
   "execution_count": 72,
   "metadata": {},
   "outputs": [
    {
     "data": {
      "text/plain": [
       "Index(['Fund', 'Rating', 'Return 1-Year', 'Return 3-Year', 'Return 5-Year',\n",
       "       'Return 10-Year', 'Return 15-Year', 'Return 20-Year',\n",
       "       'Category_DT-CO     ', 'Category_DT-DB     ', 'Category_DT-INC    ',\n",
       "       'Category_DT-LIQ    ', 'Category_DT-ST     ', 'Category_DT-UST    ',\n",
       "       'Category_EQ-BANK   ', 'Category_EQ-INFRA  ', 'Category_EQ-LC     ',\n",
       "       'Category_EQ-MC     ', 'Category_EQ-MLC    ', 'Category_EQ-SC     ',\n",
       "       'Category_EQ-TS     ', 'Category_GL-MLT    ', 'Category_GL-ST     ',\n",
       "       'Category_HY-AA     ', 'Category_HY-AR     ', 'Category_HY-DA     ',\n",
       "       'Category_HY-DC     ', 'Category_HY-EQ     '],\n",
       "      dtype='object')"
      ]
     },
     "execution_count": 72,
     "metadata": {},
     "output_type": "execute_result"
    }
   ],
   "source": [
    "df.columns"
   ]
  },
  {
   "cell_type": "code",
   "execution_count": null,
   "metadata": {
    "collapsed": true
   },
   "outputs": [],
   "source": []
  },
  {
   "cell_type": "code",
   "execution_count": 73,
   "metadata": {
    "collapsed": true
   },
   "outputs": [],
   "source": [
    "#Training data"
   ]
  },
  {
   "cell_type": "code",
   "execution_count": 74,
   "metadata": {
    "collapsed": true
   },
   "outputs": [],
   "source": [
    "training_cols = ['Rating', 'Return 1-Year', 'Return 3-Year',\n",
    "       'Category_DT-CO     ', 'Category_DT-DB     ', 'Category_DT-INC    ',\n",
    "       'Category_DT-LIQ    ', 'Category_DT-ST     ', 'Category_DT-UST    ',\n",
    "       'Category_EQ-BANK   ', 'Category_EQ-INFRA  ', 'Category_EQ-LC     ',\n",
    "       'Category_EQ-MC     ', 'Category_EQ-MLC    ', 'Category_EQ-SC     ',\n",
    "       'Category_EQ-TS     ', 'Category_GL-MLT    ', 'Category_GL-ST     ',\n",
    "       'Category_HY-AA     ', 'Category_HY-AR     ', 'Category_HY-DA     ',\n",
    "       'Category_HY-DC     ', 'Category_HY-EQ     ', 'Return 5-Year']"
   ]
  },
  {
   "cell_type": "code",
   "execution_count": 75,
   "metadata": {
    "collapsed": true
   },
   "outputs": [],
   "source": [
    "df_train = df[training_cols]"
   ]
  },
  {
   "cell_type": "code",
   "execution_count": 76,
   "metadata": {},
   "outputs": [
    {
     "data": {
      "text/html": [
       "<div>\n",
       "<style>\n",
       "    .dataframe thead tr:only-child th {\n",
       "        text-align: right;\n",
       "    }\n",
       "\n",
       "    .dataframe thead th {\n",
       "        text-align: left;\n",
       "    }\n",
       "\n",
       "    .dataframe tbody tr th {\n",
       "        vertical-align: top;\n",
       "    }\n",
       "</style>\n",
       "<table border=\"1\" class=\"dataframe\">\n",
       "  <thead>\n",
       "    <tr style=\"text-align: right;\">\n",
       "      <th></th>\n",
       "      <th>Rating</th>\n",
       "      <th>Return 1-Year</th>\n",
       "      <th>Return 3-Year</th>\n",
       "      <th>Category_DT-CO</th>\n",
       "      <th>Category_DT-DB</th>\n",
       "      <th>Category_DT-INC</th>\n",
       "      <th>Category_DT-LIQ</th>\n",
       "      <th>Category_DT-ST</th>\n",
       "      <th>Category_DT-UST</th>\n",
       "      <th>Category_EQ-BANK</th>\n",
       "      <th>...</th>\n",
       "      <th>Category_EQ-SC</th>\n",
       "      <th>Category_EQ-TS</th>\n",
       "      <th>Category_GL-MLT</th>\n",
       "      <th>Category_GL-ST</th>\n",
       "      <th>Category_HY-AA</th>\n",
       "      <th>Category_HY-AR</th>\n",
       "      <th>Category_HY-DA</th>\n",
       "      <th>Category_HY-DC</th>\n",
       "      <th>Category_HY-EQ</th>\n",
       "      <th>Return 5-Year</th>\n",
       "    </tr>\n",
       "  </thead>\n",
       "  <tbody>\n",
       "    <tr>\n",
       "      <th>0</th>\n",
       "      <td>2</td>\n",
       "      <td>1.76</td>\n",
       "      <td>6.83</td>\n",
       "      <td>0</td>\n",
       "      <td>0</td>\n",
       "      <td>1</td>\n",
       "      <td>0</td>\n",
       "      <td>0</td>\n",
       "      <td>0</td>\n",
       "      <td>0</td>\n",
       "      <td>...</td>\n",
       "      <td>0</td>\n",
       "      <td>0</td>\n",
       "      <td>0</td>\n",
       "      <td>0</td>\n",
       "      <td>0</td>\n",
       "      <td>0</td>\n",
       "      <td>0</td>\n",
       "      <td>0</td>\n",
       "      <td>0</td>\n",
       "      <td>7.85</td>\n",
       "    </tr>\n",
       "    <tr>\n",
       "      <th>1</th>\n",
       "      <td>3</td>\n",
       "      <td>2.27</td>\n",
       "      <td>7.37</td>\n",
       "      <td>0</td>\n",
       "      <td>0</td>\n",
       "      <td>1</td>\n",
       "      <td>0</td>\n",
       "      <td>0</td>\n",
       "      <td>0</td>\n",
       "      <td>0</td>\n",
       "      <td>...</td>\n",
       "      <td>0</td>\n",
       "      <td>0</td>\n",
       "      <td>0</td>\n",
       "      <td>0</td>\n",
       "      <td>0</td>\n",
       "      <td>0</td>\n",
       "      <td>0</td>\n",
       "      <td>0</td>\n",
       "      <td>0</td>\n",
       "      <td>NaN</td>\n",
       "    </tr>\n",
       "    <tr>\n",
       "      <th>2</th>\n",
       "      <td>5</td>\n",
       "      <td>31.67</td>\n",
       "      <td>22.29</td>\n",
       "      <td>0</td>\n",
       "      <td>0</td>\n",
       "      <td>0</td>\n",
       "      <td>0</td>\n",
       "      <td>0</td>\n",
       "      <td>0</td>\n",
       "      <td>0</td>\n",
       "      <td>...</td>\n",
       "      <td>0</td>\n",
       "      <td>0</td>\n",
       "      <td>0</td>\n",
       "      <td>0</td>\n",
       "      <td>0</td>\n",
       "      <td>0</td>\n",
       "      <td>0</td>\n",
       "      <td>0</td>\n",
       "      <td>0</td>\n",
       "      <td>24.79</td>\n",
       "    </tr>\n",
       "    <tr>\n",
       "      <th>3</th>\n",
       "      <td>5</td>\n",
       "      <td>33.37</td>\n",
       "      <td>23.75</td>\n",
       "      <td>0</td>\n",
       "      <td>0</td>\n",
       "      <td>0</td>\n",
       "      <td>0</td>\n",
       "      <td>0</td>\n",
       "      <td>0</td>\n",
       "      <td>0</td>\n",
       "      <td>...</td>\n",
       "      <td>0</td>\n",
       "      <td>0</td>\n",
       "      <td>0</td>\n",
       "      <td>0</td>\n",
       "      <td>0</td>\n",
       "      <td>0</td>\n",
       "      <td>0</td>\n",
       "      <td>0</td>\n",
       "      <td>0</td>\n",
       "      <td>NaN</td>\n",
       "    </tr>\n",
       "    <tr>\n",
       "      <th>4</th>\n",
       "      <td>4</td>\n",
       "      <td>20.62</td>\n",
       "      <td>15.97</td>\n",
       "      <td>0</td>\n",
       "      <td>0</td>\n",
       "      <td>0</td>\n",
       "      <td>0</td>\n",
       "      <td>0</td>\n",
       "      <td>0</td>\n",
       "      <td>0</td>\n",
       "      <td>...</td>\n",
       "      <td>0</td>\n",
       "      <td>0</td>\n",
       "      <td>0</td>\n",
       "      <td>0</td>\n",
       "      <td>0</td>\n",
       "      <td>0</td>\n",
       "      <td>0</td>\n",
       "      <td>0</td>\n",
       "      <td>1</td>\n",
       "      <td>18.14</td>\n",
       "    </tr>\n",
       "  </tbody>\n",
       "</table>\n",
       "<p>5 rows × 24 columns</p>\n",
       "</div>"
      ],
      "text/plain": [
       "   Rating  Return 1-Year  Return 3-Year  Category_DT-CO       \\\n",
       "0       2           1.76           6.83                    0   \n",
       "1       3           2.27           7.37                    0   \n",
       "2       5          31.67          22.29                    0   \n",
       "3       5          33.37          23.75                    0   \n",
       "4       4          20.62          15.97                    0   \n",
       "\n",
       "   Category_DT-DB       Category_DT-INC      Category_DT-LIQ      \\\n",
       "0                    0                    1                    0   \n",
       "1                    0                    1                    0   \n",
       "2                    0                    0                    0   \n",
       "3                    0                    0                    0   \n",
       "4                    0                    0                    0   \n",
       "\n",
       "   Category_DT-ST       Category_DT-UST      Category_EQ-BANK     \\\n",
       "0                    0                    0                    0   \n",
       "1                    0                    0                    0   \n",
       "2                    0                    0                    0   \n",
       "3                    0                    0                    0   \n",
       "4                    0                    0                    0   \n",
       "\n",
       "       ...        Category_EQ-SC       Category_EQ-TS       \\\n",
       "0      ...                          0                    0   \n",
       "1      ...                          0                    0   \n",
       "2      ...                          0                    0   \n",
       "3      ...                          0                    0   \n",
       "4      ...                          0                    0   \n",
       "\n",
       "   Category_GL-MLT      Category_GL-ST       Category_HY-AA       \\\n",
       "0                    0                    0                    0   \n",
       "1                    0                    0                    0   \n",
       "2                    0                    0                    0   \n",
       "3                    0                    0                    0   \n",
       "4                    0                    0                    0   \n",
       "\n",
       "   Category_HY-AR       Category_HY-DA       Category_HY-DC       \\\n",
       "0                    0                    0                    0   \n",
       "1                    0                    0                    0   \n",
       "2                    0                    0                    0   \n",
       "3                    0                    0                    0   \n",
       "4                    0                    0                    0   \n",
       "\n",
       "   Category_HY-EQ       Return 5-Year  \n",
       "0                    0           7.85  \n",
       "1                    0            NaN  \n",
       "2                    0          24.79  \n",
       "3                    0            NaN  \n",
       "4                    1          18.14  \n",
       "\n",
       "[5 rows x 24 columns]"
      ]
     },
     "execution_count": 76,
     "metadata": {},
     "output_type": "execute_result"
    }
   ],
   "source": [
    "df_train.head()"
   ]
  },
  {
   "cell_type": "code",
   "execution_count": 77,
   "metadata": {},
   "outputs": [
    {
     "data": {
      "text/plain": [
       "Rating                   0\n",
       "Return 1-Year            5\n",
       "Return 3-Year           26\n",
       "Category_DT-CO           0\n",
       "Category_DT-DB           0\n",
       "Category_DT-INC          0\n",
       "Category_DT-LIQ          0\n",
       "Category_DT-ST           0\n",
       "Category_DT-UST          0\n",
       "Category_EQ-BANK         0\n",
       "Category_EQ-INFRA        0\n",
       "Category_EQ-LC           0\n",
       "Category_EQ-MC           0\n",
       "Category_EQ-MLC          0\n",
       "Category_EQ-SC           0\n",
       "Category_EQ-TS           0\n",
       "Category_GL-MLT          0\n",
       "Category_GL-ST           0\n",
       "Category_HY-AA           0\n",
       "Category_HY-AR           0\n",
       "Category_HY-DA           0\n",
       "Category_HY-DC           0\n",
       "Category_HY-EQ           0\n",
       "Return 5-Year          698\n",
       "dtype: int64"
      ]
     },
     "execution_count": 77,
     "metadata": {},
     "output_type": "execute_result"
    }
   ],
   "source": [
    "df_train.isnull().sum(axis=0)"
   ]
  },
  {
   "cell_type": "code",
   "execution_count": 78,
   "metadata": {
    "collapsed": true
   },
   "outputs": [],
   "source": [
    "# Since missing values are very less , we can try to impute the missing data in col:'return 1-year' and col2:'return 3-year\n",
    "# with the mean of the col"
   ]
  },
  {
   "cell_type": "code",
   "execution_count": 79,
   "metadata": {
    "collapsed": true
   },
   "outputs": [],
   "source": [
    "one_year_mean = df_train['Return 1-Year'].mean()"
   ]
  },
  {
   "cell_type": "code",
   "execution_count": 80,
   "metadata": {
    "collapsed": true
   },
   "outputs": [],
   "source": [
    "three_year_mean = df_train['Return 3-Year'].mean()"
   ]
  },
  {
   "cell_type": "code",
   "execution_count": 81,
   "metadata": {},
   "outputs": [
    {
     "name": "stderr",
     "output_type": "stream",
     "text": [
      "C:\\Users\\mritunjay\\Anaconda3\\envs\\tensorflow\\lib\\site-packages\\ipykernel_launcher.py:5: SettingWithCopyWarning: \n",
      "A value is trying to be set on a copy of a slice from a DataFrame.\n",
      "Try using .loc[row_indexer,col_indexer] = value instead\n",
      "\n",
      "See the caveats in the documentation: http://pandas.pydata.org/pandas-docs/stable/indexing.html#indexing-view-versus-copy\n",
      "  \"\"\"\n",
      "C:\\Users\\mritunjay\\Anaconda3\\envs\\tensorflow\\lib\\site-packages\\ipykernel_launcher.py:3: SettingWithCopyWarning: \n",
      "A value is trying to be set on a copy of a slice from a DataFrame.\n",
      "Try using .loc[row_indexer,col_indexer] = value instead\n",
      "\n",
      "See the caveats in the documentation: http://pandas.pydata.org/pandas-docs/stable/indexing.html#indexing-view-versus-copy\n",
      "  This is separate from the ipykernel package so we can avoid doing imports until\n"
     ]
    }
   ],
   "source": [
    "for i in range(len(df_train)):\n",
    "    if np.isnan(df_train['Return 1-Year'].iloc[i]):\n",
    "        df_train['Return 1-Year']=one_year_mean\n",
    "    if np.isnan(df_train['Return 3-Year'].iloc[i]):\n",
    "        df_train['Return 3-Year']=three_year_mean"
   ]
  },
  {
   "cell_type": "code",
   "execution_count": 82,
   "metadata": {},
   "outputs": [
    {
     "data": {
      "text/plain": [
       "Rating                   0\n",
       "Return 1-Year            0\n",
       "Return 3-Year            0\n",
       "Category_DT-CO           0\n",
       "Category_DT-DB           0\n",
       "Category_DT-INC          0\n",
       "Category_DT-LIQ          0\n",
       "Category_DT-ST           0\n",
       "Category_DT-UST          0\n",
       "Category_EQ-BANK         0\n",
       "Category_EQ-INFRA        0\n",
       "Category_EQ-LC           0\n",
       "Category_EQ-MC           0\n",
       "Category_EQ-MLC          0\n",
       "Category_EQ-SC           0\n",
       "Category_EQ-TS           0\n",
       "Category_GL-MLT          0\n",
       "Category_GL-ST           0\n",
       "Category_HY-AA           0\n",
       "Category_HY-AR           0\n",
       "Category_HY-DA           0\n",
       "Category_HY-DC           0\n",
       "Category_HY-EQ           0\n",
       "Return 5-Year          698\n",
       "dtype: int64"
      ]
     },
     "execution_count": 82,
     "metadata": {},
     "output_type": "execute_result"
    }
   ],
   "source": [
    "df_train.isnull().sum(axis=0)"
   ]
  },
  {
   "cell_type": "code",
   "execution_count": null,
   "metadata": {
    "collapsed": true
   },
   "outputs": [],
   "source": []
  },
  {
   "cell_type": "code",
   "execution_count": 83,
   "metadata": {},
   "outputs": [
    {
     "data": {
      "text/plain": [
       "1273"
      ]
     },
     "execution_count": 83,
     "metadata": {},
     "output_type": "execute_result"
    }
   ],
   "source": [
    "len(df_train)"
   ]
  },
  {
   "cell_type": "code",
   "execution_count": 84,
   "metadata": {
    "collapsed": true
   },
   "outputs": [],
   "source": [
    "df_testset = df_train[df_train['Return 5-Year'].isnull()==True]"
   ]
  },
  {
   "cell_type": "code",
   "execution_count": 85,
   "metadata": {},
   "outputs": [
    {
     "data": {
      "text/plain": [
       "698"
      ]
     },
     "execution_count": 85,
     "metadata": {},
     "output_type": "execute_result"
    }
   ],
   "source": [
    "len(df_testset)"
   ]
  },
  {
   "cell_type": "code",
   "execution_count": 86,
   "metadata": {},
   "outputs": [
    {
     "data": {
      "text/html": [
       "<div>\n",
       "<style>\n",
       "    .dataframe thead tr:only-child th {\n",
       "        text-align: right;\n",
       "    }\n",
       "\n",
       "    .dataframe thead th {\n",
       "        text-align: left;\n",
       "    }\n",
       "\n",
       "    .dataframe tbody tr th {\n",
       "        vertical-align: top;\n",
       "    }\n",
       "</style>\n",
       "<table border=\"1\" class=\"dataframe\">\n",
       "  <thead>\n",
       "    <tr style=\"text-align: right;\">\n",
       "      <th></th>\n",
       "      <th>Rating</th>\n",
       "      <th>Return 1-Year</th>\n",
       "      <th>Return 3-Year</th>\n",
       "      <th>Category_DT-CO</th>\n",
       "      <th>Category_DT-DB</th>\n",
       "      <th>Category_DT-INC</th>\n",
       "      <th>Category_DT-LIQ</th>\n",
       "      <th>Category_DT-ST</th>\n",
       "      <th>Category_DT-UST</th>\n",
       "      <th>Category_EQ-BANK</th>\n",
       "      <th>...</th>\n",
       "      <th>Category_EQ-SC</th>\n",
       "      <th>Category_EQ-TS</th>\n",
       "      <th>Category_GL-MLT</th>\n",
       "      <th>Category_GL-ST</th>\n",
       "      <th>Category_HY-AA</th>\n",
       "      <th>Category_HY-AR</th>\n",
       "      <th>Category_HY-DA</th>\n",
       "      <th>Category_HY-DC</th>\n",
       "      <th>Category_HY-EQ</th>\n",
       "      <th>Return 5-Year</th>\n",
       "    </tr>\n",
       "  </thead>\n",
       "  <tbody>\n",
       "    <tr>\n",
       "      <th>1</th>\n",
       "      <td>3</td>\n",
       "      <td>16.646569</td>\n",
       "      <td>12.948099</td>\n",
       "      <td>0</td>\n",
       "      <td>0</td>\n",
       "      <td>1</td>\n",
       "      <td>0</td>\n",
       "      <td>0</td>\n",
       "      <td>0</td>\n",
       "      <td>0</td>\n",
       "      <td>...</td>\n",
       "      <td>0</td>\n",
       "      <td>0</td>\n",
       "      <td>0</td>\n",
       "      <td>0</td>\n",
       "      <td>0</td>\n",
       "      <td>0</td>\n",
       "      <td>0</td>\n",
       "      <td>0</td>\n",
       "      <td>0</td>\n",
       "      <td>NaN</td>\n",
       "    </tr>\n",
       "    <tr>\n",
       "      <th>3</th>\n",
       "      <td>5</td>\n",
       "      <td>16.646569</td>\n",
       "      <td>12.948099</td>\n",
       "      <td>0</td>\n",
       "      <td>0</td>\n",
       "      <td>0</td>\n",
       "      <td>0</td>\n",
       "      <td>0</td>\n",
       "      <td>0</td>\n",
       "      <td>0</td>\n",
       "      <td>...</td>\n",
       "      <td>0</td>\n",
       "      <td>0</td>\n",
       "      <td>0</td>\n",
       "      <td>0</td>\n",
       "      <td>0</td>\n",
       "      <td>0</td>\n",
       "      <td>0</td>\n",
       "      <td>0</td>\n",
       "      <td>0</td>\n",
       "      <td>NaN</td>\n",
       "    </tr>\n",
       "    <tr>\n",
       "      <th>5</th>\n",
       "      <td>4</td>\n",
       "      <td>16.646569</td>\n",
       "      <td>12.948099</td>\n",
       "      <td>0</td>\n",
       "      <td>0</td>\n",
       "      <td>0</td>\n",
       "      <td>0</td>\n",
       "      <td>0</td>\n",
       "      <td>0</td>\n",
       "      <td>0</td>\n",
       "      <td>...</td>\n",
       "      <td>0</td>\n",
       "      <td>0</td>\n",
       "      <td>0</td>\n",
       "      <td>0</td>\n",
       "      <td>0</td>\n",
       "      <td>0</td>\n",
       "      <td>0</td>\n",
       "      <td>0</td>\n",
       "      <td>1</td>\n",
       "      <td>NaN</td>\n",
       "    </tr>\n",
       "    <tr>\n",
       "      <th>7</th>\n",
       "      <td>4</td>\n",
       "      <td>16.646569</td>\n",
       "      <td>12.948099</td>\n",
       "      <td>0</td>\n",
       "      <td>0</td>\n",
       "      <td>0</td>\n",
       "      <td>0</td>\n",
       "      <td>0</td>\n",
       "      <td>0</td>\n",
       "      <td>0</td>\n",
       "      <td>...</td>\n",
       "      <td>0</td>\n",
       "      <td>0</td>\n",
       "      <td>0</td>\n",
       "      <td>0</td>\n",
       "      <td>1</td>\n",
       "      <td>0</td>\n",
       "      <td>0</td>\n",
       "      <td>0</td>\n",
       "      <td>0</td>\n",
       "      <td>NaN</td>\n",
       "    </tr>\n",
       "    <tr>\n",
       "      <th>8</th>\n",
       "      <td>5</td>\n",
       "      <td>16.646569</td>\n",
       "      <td>12.948099</td>\n",
       "      <td>0</td>\n",
       "      <td>0</td>\n",
       "      <td>0</td>\n",
       "      <td>0</td>\n",
       "      <td>0</td>\n",
       "      <td>0</td>\n",
       "      <td>1</td>\n",
       "      <td>...</td>\n",
       "      <td>0</td>\n",
       "      <td>0</td>\n",
       "      <td>0</td>\n",
       "      <td>0</td>\n",
       "      <td>0</td>\n",
       "      <td>0</td>\n",
       "      <td>0</td>\n",
       "      <td>0</td>\n",
       "      <td>0</td>\n",
       "      <td>NaN</td>\n",
       "    </tr>\n",
       "  </tbody>\n",
       "</table>\n",
       "<p>5 rows × 24 columns</p>\n",
       "</div>"
      ],
      "text/plain": [
       "   Rating  Return 1-Year  Return 3-Year  Category_DT-CO       \\\n",
       "1       3      16.646569      12.948099                    0   \n",
       "3       5      16.646569      12.948099                    0   \n",
       "5       4      16.646569      12.948099                    0   \n",
       "7       4      16.646569      12.948099                    0   \n",
       "8       5      16.646569      12.948099                    0   \n",
       "\n",
       "   Category_DT-DB       Category_DT-INC      Category_DT-LIQ      \\\n",
       "1                    0                    1                    0   \n",
       "3                    0                    0                    0   \n",
       "5                    0                    0                    0   \n",
       "7                    0                    0                    0   \n",
       "8                    0                    0                    0   \n",
       "\n",
       "   Category_DT-ST       Category_DT-UST      Category_EQ-BANK     \\\n",
       "1                    0                    0                    0   \n",
       "3                    0                    0                    0   \n",
       "5                    0                    0                    0   \n",
       "7                    0                    0                    0   \n",
       "8                    0                    0                    1   \n",
       "\n",
       "       ...        Category_EQ-SC       Category_EQ-TS       \\\n",
       "1      ...                          0                    0   \n",
       "3      ...                          0                    0   \n",
       "5      ...                          0                    0   \n",
       "7      ...                          0                    0   \n",
       "8      ...                          0                    0   \n",
       "\n",
       "   Category_GL-MLT      Category_GL-ST       Category_HY-AA       \\\n",
       "1                    0                    0                    0   \n",
       "3                    0                    0                    0   \n",
       "5                    0                    0                    0   \n",
       "7                    0                    0                    1   \n",
       "8                    0                    0                    0   \n",
       "\n",
       "   Category_HY-AR       Category_HY-DA       Category_HY-DC       \\\n",
       "1                    0                    0                    0   \n",
       "3                    0                    0                    0   \n",
       "5                    0                    0                    0   \n",
       "7                    0                    0                    0   \n",
       "8                    0                    0                    0   \n",
       "\n",
       "   Category_HY-EQ       Return 5-Year  \n",
       "1                    0            NaN  \n",
       "3                    0            NaN  \n",
       "5                    1            NaN  \n",
       "7                    0            NaN  \n",
       "8                    0            NaN  \n",
       "\n",
       "[5 rows x 24 columns]"
      ]
     },
     "execution_count": 86,
     "metadata": {},
     "output_type": "execute_result"
    }
   ],
   "source": [
    "df_testset.head()"
   ]
  },
  {
   "cell_type": "code",
   "execution_count": 87,
   "metadata": {
    "collapsed": true
   },
   "outputs": [],
   "source": [
    "df_trainset = df_train[df_train['Return 5-Year'].isnull()==False]"
   ]
  },
  {
   "cell_type": "code",
   "execution_count": 88,
   "metadata": {},
   "outputs": [
    {
     "data": {
      "text/html": [
       "<div>\n",
       "<style>\n",
       "    .dataframe thead tr:only-child th {\n",
       "        text-align: right;\n",
       "    }\n",
       "\n",
       "    .dataframe thead th {\n",
       "        text-align: left;\n",
       "    }\n",
       "\n",
       "    .dataframe tbody tr th {\n",
       "        vertical-align: top;\n",
       "    }\n",
       "</style>\n",
       "<table border=\"1\" class=\"dataframe\">\n",
       "  <thead>\n",
       "    <tr style=\"text-align: right;\">\n",
       "      <th></th>\n",
       "      <th>Rating</th>\n",
       "      <th>Return 1-Year</th>\n",
       "      <th>Return 3-Year</th>\n",
       "      <th>Category_DT-CO</th>\n",
       "      <th>Category_DT-DB</th>\n",
       "      <th>Category_DT-INC</th>\n",
       "      <th>Category_DT-LIQ</th>\n",
       "      <th>Category_DT-ST</th>\n",
       "      <th>Category_DT-UST</th>\n",
       "      <th>Category_EQ-BANK</th>\n",
       "      <th>...</th>\n",
       "      <th>Category_EQ-SC</th>\n",
       "      <th>Category_EQ-TS</th>\n",
       "      <th>Category_GL-MLT</th>\n",
       "      <th>Category_GL-ST</th>\n",
       "      <th>Category_HY-AA</th>\n",
       "      <th>Category_HY-AR</th>\n",
       "      <th>Category_HY-DA</th>\n",
       "      <th>Category_HY-DC</th>\n",
       "      <th>Category_HY-EQ</th>\n",
       "      <th>Return 5-Year</th>\n",
       "    </tr>\n",
       "  </thead>\n",
       "  <tbody>\n",
       "    <tr>\n",
       "      <th>0</th>\n",
       "      <td>2</td>\n",
       "      <td>16.646569</td>\n",
       "      <td>12.948099</td>\n",
       "      <td>0</td>\n",
       "      <td>0</td>\n",
       "      <td>1</td>\n",
       "      <td>0</td>\n",
       "      <td>0</td>\n",
       "      <td>0</td>\n",
       "      <td>0</td>\n",
       "      <td>...</td>\n",
       "      <td>0</td>\n",
       "      <td>0</td>\n",
       "      <td>0</td>\n",
       "      <td>0</td>\n",
       "      <td>0</td>\n",
       "      <td>0</td>\n",
       "      <td>0</td>\n",
       "      <td>0</td>\n",
       "      <td>0</td>\n",
       "      <td>7.85</td>\n",
       "    </tr>\n",
       "    <tr>\n",
       "      <th>2</th>\n",
       "      <td>5</td>\n",
       "      <td>16.646569</td>\n",
       "      <td>12.948099</td>\n",
       "      <td>0</td>\n",
       "      <td>0</td>\n",
       "      <td>0</td>\n",
       "      <td>0</td>\n",
       "      <td>0</td>\n",
       "      <td>0</td>\n",
       "      <td>0</td>\n",
       "      <td>...</td>\n",
       "      <td>0</td>\n",
       "      <td>0</td>\n",
       "      <td>0</td>\n",
       "      <td>0</td>\n",
       "      <td>0</td>\n",
       "      <td>0</td>\n",
       "      <td>0</td>\n",
       "      <td>0</td>\n",
       "      <td>0</td>\n",
       "      <td>24.79</td>\n",
       "    </tr>\n",
       "    <tr>\n",
       "      <th>4</th>\n",
       "      <td>4</td>\n",
       "      <td>16.646569</td>\n",
       "      <td>12.948099</td>\n",
       "      <td>0</td>\n",
       "      <td>0</td>\n",
       "      <td>0</td>\n",
       "      <td>0</td>\n",
       "      <td>0</td>\n",
       "      <td>0</td>\n",
       "      <td>0</td>\n",
       "      <td>...</td>\n",
       "      <td>0</td>\n",
       "      <td>0</td>\n",
       "      <td>0</td>\n",
       "      <td>0</td>\n",
       "      <td>0</td>\n",
       "      <td>0</td>\n",
       "      <td>0</td>\n",
       "      <td>0</td>\n",
       "      <td>1</td>\n",
       "      <td>18.14</td>\n",
       "    </tr>\n",
       "    <tr>\n",
       "      <th>6</th>\n",
       "      <td>3</td>\n",
       "      <td>16.646569</td>\n",
       "      <td>12.948099</td>\n",
       "      <td>0</td>\n",
       "      <td>0</td>\n",
       "      <td>0</td>\n",
       "      <td>0</td>\n",
       "      <td>0</td>\n",
       "      <td>0</td>\n",
       "      <td>0</td>\n",
       "      <td>...</td>\n",
       "      <td>0</td>\n",
       "      <td>0</td>\n",
       "      <td>0</td>\n",
       "      <td>0</td>\n",
       "      <td>1</td>\n",
       "      <td>0</td>\n",
       "      <td>0</td>\n",
       "      <td>0</td>\n",
       "      <td>0</td>\n",
       "      <td>14.37</td>\n",
       "    </tr>\n",
       "    <tr>\n",
       "      <th>10</th>\n",
       "      <td>2</td>\n",
       "      <td>16.646569</td>\n",
       "      <td>12.948099</td>\n",
       "      <td>0</td>\n",
       "      <td>0</td>\n",
       "      <td>0</td>\n",
       "      <td>0</td>\n",
       "      <td>0</td>\n",
       "      <td>1</td>\n",
       "      <td>0</td>\n",
       "      <td>...</td>\n",
       "      <td>0</td>\n",
       "      <td>0</td>\n",
       "      <td>0</td>\n",
       "      <td>0</td>\n",
       "      <td>0</td>\n",
       "      <td>0</td>\n",
       "      <td>0</td>\n",
       "      <td>0</td>\n",
       "      <td>0</td>\n",
       "      <td>7.76</td>\n",
       "    </tr>\n",
       "  </tbody>\n",
       "</table>\n",
       "<p>5 rows × 24 columns</p>\n",
       "</div>"
      ],
      "text/plain": [
       "    Rating  Return 1-Year  Return 3-Year  Category_DT-CO       \\\n",
       "0        2      16.646569      12.948099                    0   \n",
       "2        5      16.646569      12.948099                    0   \n",
       "4        4      16.646569      12.948099                    0   \n",
       "6        3      16.646569      12.948099                    0   \n",
       "10       2      16.646569      12.948099                    0   \n",
       "\n",
       "    Category_DT-DB       Category_DT-INC      Category_DT-LIQ      \\\n",
       "0                     0                    1                    0   \n",
       "2                     0                    0                    0   \n",
       "4                     0                    0                    0   \n",
       "6                     0                    0                    0   \n",
       "10                    0                    0                    0   \n",
       "\n",
       "    Category_DT-ST       Category_DT-UST      Category_EQ-BANK     \\\n",
       "0                     0                    0                    0   \n",
       "2                     0                    0                    0   \n",
       "4                     0                    0                    0   \n",
       "6                     0                    0                    0   \n",
       "10                    0                    1                    0   \n",
       "\n",
       "        ...        Category_EQ-SC       Category_EQ-TS       \\\n",
       "0       ...                          0                    0   \n",
       "2       ...                          0                    0   \n",
       "4       ...                          0                    0   \n",
       "6       ...                          0                    0   \n",
       "10      ...                          0                    0   \n",
       "\n",
       "    Category_GL-MLT      Category_GL-ST       Category_HY-AA       \\\n",
       "0                     0                    0                    0   \n",
       "2                     0                    0                    0   \n",
       "4                     0                    0                    0   \n",
       "6                     0                    0                    1   \n",
       "10                    0                    0                    0   \n",
       "\n",
       "    Category_HY-AR       Category_HY-DA       Category_HY-DC       \\\n",
       "0                     0                    0                    0   \n",
       "2                     0                    0                    0   \n",
       "4                     0                    0                    0   \n",
       "6                     0                    0                    0   \n",
       "10                    0                    0                    0   \n",
       "\n",
       "    Category_HY-EQ       Return 5-Year  \n",
       "0                     0           7.85  \n",
       "2                     0          24.79  \n",
       "4                     1          18.14  \n",
       "6                     0          14.37  \n",
       "10                    0           7.76  \n",
       "\n",
       "[5 rows x 24 columns]"
      ]
     },
     "execution_count": 88,
     "metadata": {},
     "output_type": "execute_result"
    }
   ],
   "source": [
    "df_trainset.head()"
   ]
  },
  {
   "cell_type": "code",
   "execution_count": 89,
   "metadata": {},
   "outputs": [
    {
     "data": {
      "text/plain": [
       "575"
      ]
     },
     "execution_count": 89,
     "metadata": {},
     "output_type": "execute_result"
    }
   ],
   "source": [
    "len(df_trainset)"
   ]
  },
  {
   "cell_type": "code",
   "execution_count": 90,
   "metadata": {
    "collapsed": true
   },
   "outputs": [],
   "source": [
    "y_train = df_trainset['Return 5-Year']"
   ]
  },
  {
   "cell_type": "code",
   "execution_count": 91,
   "metadata": {},
   "outputs": [
    {
     "name": "stderr",
     "output_type": "stream",
     "text": [
      "C:\\Users\\mritunjay\\Anaconda3\\envs\\tensorflow\\lib\\site-packages\\ipykernel_launcher.py:1: SettingWithCopyWarning: \n",
      "A value is trying to be set on a copy of a slice from a DataFrame\n",
      "\n",
      "See the caveats in the documentation: http://pandas.pydata.org/pandas-docs/stable/indexing.html#indexing-view-versus-copy\n",
      "  \"\"\"Entry point for launching an IPython kernel.\n"
     ]
    }
   ],
   "source": [
    "df_testset.drop('Return 5-Year',inplace=True,axis=1)"
   ]
  },
  {
   "cell_type": "code",
   "execution_count": 92,
   "metadata": {
    "collapsed": true
   },
   "outputs": [],
   "source": [
    "X_train = df_trainset.drop('Return 5-Year',axis=1)"
   ]
  },
  {
   "cell_type": "code",
   "execution_count": 93,
   "metadata": {
    "collapsed": true
   },
   "outputs": [],
   "source": [
    "features = X_train.columns"
   ]
  },
  {
   "cell_type": "code",
   "execution_count": 94,
   "metadata": {
    "collapsed": true
   },
   "outputs": [],
   "source": [
    "target = 'Return 5-Year'"
   ]
  },
  {
   "cell_type": "code",
   "execution_count": 95,
   "metadata": {},
   "outputs": [
    {
     "data": {
      "text/plain": [
       "575"
      ]
     },
     "execution_count": 95,
     "metadata": {},
     "output_type": "execute_result"
    }
   ],
   "source": [
    "len(y_train)"
   ]
  },
  {
   "cell_type": "code",
   "execution_count": null,
   "metadata": {
    "collapsed": true
   },
   "outputs": [],
   "source": []
  },
  {
   "cell_type": "code",
   "execution_count": 96,
   "metadata": {
    "collapsed": true
   },
   "outputs": [],
   "source": [
    "from xgboost import XGBRegressor\n",
    "from sklearn.linear_model import BayesianRidge, Ridge, ElasticNet\n",
    "from sklearn.neighbors import KNeighborsRegressor\n",
    "from sklearn.ensemble import RandomForestRegressor, ExtraTreesRegressor, GradientBoostingRegressor\n",
    "from sklearn.metrics import mean_squared_error\n",
    "from sklearn.model_selection import cross_val_score"
   ]
  },
  {
   "cell_type": "code",
   "execution_count": 97,
   "metadata": {
    "collapsed": true
   },
   "outputs": [],
   "source": [
    "model_set =  [XGBRegressor(nthread=1),RandomForestRegressor(),Ridge(),BayesianRidge(),ExtraTreesRegressor(),ElasticNet(),KNeighborsRegressor(),GradientBoostingRegressor()]\n"
   ]
  },
  {
   "cell_type": "code",
   "execution_count": 98,
   "metadata": {
    "scrolled": true
   },
   "outputs": [
    {
     "name": "stdout",
     "output_type": "stream",
     "text": [
      "XGBRegressor              ->    RMSE:   2.0200794107171762\n",
      "RandomForestRegressor     ->    RMSE:   1.7463160189354976\n",
      "Ridge                     ->    RMSE:   2.026997642458546\n",
      "BayesianRidge             ->    RMSE:   1.9116808889671972\n",
      "ExtraTreesRegressor       ->    RMSE:   1.7995361209355651\n",
      "ElasticNet                ->    RMSE:   6.578971881443188\n",
      "KNeighborsRegressor       ->    RMSE:   2.6870008750831826\n",
      "GradientBoostingRegressor ->    RMSE:   1.9265843159883413\n"
     ]
    }
   ],
   "source": [
    "for model in model_set:\n",
    "    model.seed = 42\n",
    "    num_folds = 3\n",
    "    scores = cross_val_score(model,X_train,y_train,scoring='mean_squared_error',cv=num_folds,n_jobs=-1)\n",
    "    score_mean = (np.sqrt(scores.mean()*-1))\n",
    "    print('{model:25} ->    RMSE:   {score}'.format(model=model.__class__.__name__,score=score_mean))"
   ]
  },
  {
   "cell_type": "code",
   "execution_count": 135,
   "metadata": {
    "collapsed": true
   },
   "outputs": [],
   "source": [
    "from sklearn.utils import shuffle\n",
    "from sklearn.base import BaseEstimator, RegressorMixin\n",
    "\n",
    "\n",
    "\n",
    "class PseudoLabeler(BaseEstimator, RegressorMixin):\n",
    "    \n",
    "    def __init__(self, model, unlabled_data, features, target, sample_rate=0.2, seed=42):\n",
    "        assert sample_rate <= 1.0, 'Sample_rate should be between 0.0 and 1.0.'\n",
    "        self.sample_rate = sample_rate\n",
    "        self.seed = seed\n",
    "        self.model = model\n",
    "        self.model.seed = seed\n",
    "        self.unlabled_data = unlabled_data\n",
    "        self.features = features\n",
    "        self.target = target\n",
    "\n",
    "    def get_params(self, deep=True):\n",
    "        return {\"sample_rate\": self.sample_rate,\"seed\": self.seed,\"model\": self.model,\"unlabled_data\": self.unlabled_data,\"features\": self.features,\"target\": self.target}\n",
    "    \n",
    "\n",
    "    def set_params(self, **parameters):\n",
    "        for parameter, value in parameters.items():\n",
    "            setattr(self, parameter, value)\n",
    "        return self\n",
    "\n",
    "    def fit(self, X, y):\n",
    "        augemented_train = self.__create_augmented_train(X, y)\n",
    "        self.model.fit(\n",
    "        augemented_train[self.features],\n",
    "        augemented_train[self.target]\n",
    "        )\n",
    "        #augemented_train = self.__create_augmented_train(X, y)self.model.fit(augemented_train[self.features],augemented_train[self.target])\n",
    "        return self\n",
    "\n",
    "\n",
    "\n",
    "    def __create_augmented_train(self, X, y):\n",
    "\n",
    "        num_of_samples = int(len(self.unlabled_data) * self.sample_rate)\n",
    "\n",
    "        # Train the model and creat the pseudo-labels\n",
    "        self.model.fit(X, y)\n",
    "        pseudo_labels = self.model.predict(self.unlabled_data[self.features])\n",
    "\n",
    "        # Add the pseudo-labels to the test set\n",
    "        pseudo_data = self.unlabled_data.copy(deep=True)\n",
    "        pseudo_data[self.target] = pseudo_labels\n",
    "\n",
    "        # Take a subset of the test set with pseudo-labels and append in onto\n",
    "         # the training set\n",
    "        sampled_pseudo_data = pseudo_data.sample(n=num_of_samples)\n",
    "        temp_train = pd.concat([X, y], axis=1)\n",
    "        augemented_train = pd.concat([sampled_pseudo_data, temp_train])\n",
    "\n",
    "        return shuffle(augemented_train)\n",
    "\n",
    "    def predict(self, X):\n",
    "        return self.model.predict(X)\n",
    "\n",
    "    def get_model_name(self):\n",
    "        return self.model.__class__.__name__"
   ]
  },
  {
   "cell_type": "code",
   "execution_count": 136,
   "metadata": {
    "collapsed": true
   },
   "outputs": [],
   "source": [
    "model_set_pseudo  = [XGBRegressor(nthreads=1),PseudoLabeler(RandomForestRegressor(),df_testset,features,target,sample_rate=0.3)]"
   ]
  },
  {
   "cell_type": "code",
   "execution_count": null,
   "metadata": {
    "collapsed": true
   },
   "outputs": [],
   "source": [
    "for model in model_set_pseudo:\n",
    "    model.seed = 42\n",
    "    num_folds = 3\n",
    "    scores = cross_val_score(model,X_train,y_train,scoring='mean_squared_error',cv=num_folds,n_jobs=-1)\n",
    "    score_mean = (np.sqrt(scores.mean()*-1))\n",
    "    print('{model:25} ->    RMSE:   {score}'.format(model=model.__class__.__name__,score=score_mean))"
   ]
  },
  {
   "cell_type": "code",
   "execution_count": 109,
   "metadata": {},
   "outputs": [],
   "source": [
    "clf_ran_for = RandomForestRegressor()"
   ]
  },
  {
   "cell_type": "code",
   "execution_count": 110,
   "metadata": {},
   "outputs": [
    {
     "data": {
      "text/plain": [
       "RandomForestRegressor(bootstrap=True, criterion='mse', max_depth=None,\n",
       "           max_features='auto', max_leaf_nodes=None,\n",
       "           min_impurity_decrease=0.0, min_impurity_split=None,\n",
       "           min_samples_leaf=1, min_samples_split=2,\n",
       "           min_weight_fraction_leaf=0.0, n_estimators=10, n_jobs=1,\n",
       "           oob_score=False, random_state=None, verbose=0, warm_start=False)"
      ]
     },
     "execution_count": 110,
     "metadata": {},
     "output_type": "execute_result"
    }
   ],
   "source": [
    "clf_ran_for.fit(X=X_train,y=y_train)"
   ]
  },
  {
   "cell_type": "code",
   "execution_count": 111,
   "metadata": {},
   "outputs": [
    {
     "data": {
      "text/plain": [
       "0.9587831263194454"
      ]
     },
     "execution_count": 111,
     "metadata": {},
     "output_type": "execute_result"
    }
   ],
   "source": [
    "clf_ran_for.score(X_train,y_train)"
   ]
  },
  {
   "cell_type": "code",
   "execution_count": 112,
   "metadata": {
    "collapsed": true
   },
   "outputs": [],
   "source": [
    "preds_ran_for = clf_ran_for.predict(df_testset)"
   ]
  },
  {
   "cell_type": "code",
   "execution_count": 131,
   "metadata": {},
   "outputs": [],
   "source": [
    "clf_xgb = XGBRegressor(nthread=1,max_depth=15, learning_rate=0.1, n_estimators=100)"
   ]
  },
  {
   "cell_type": "code",
   "execution_count": 132,
   "metadata": {},
   "outputs": [
    {
     "data": {
      "text/plain": [
       "XGBRegressor(base_score=0.5, booster='gbtree', colsample_bylevel=1,\n",
       "       colsample_bytree=1, gamma=0, learning_rate=0.1, max_delta_step=0,\n",
       "       max_depth=15, min_child_weight=1, missing=None, n_estimators=100,\n",
       "       n_jobs=1, nthread=1, objective='reg:linear', random_state=0,\n",
       "       reg_alpha=0, reg_lambda=1, scale_pos_weight=1, seed=None,\n",
       "       silent=True, subsample=1)"
      ]
     },
     "execution_count": 132,
     "metadata": {},
     "output_type": "execute_result"
    }
   ],
   "source": [
    "clf_xgb.fit(X=X_train,y=y_train)"
   ]
  },
  {
   "cell_type": "code",
   "execution_count": 133,
   "metadata": {},
   "outputs": [
    {
     "data": {
      "text/plain": [
       "96.057001934180988"
      ]
     },
     "execution_count": 133,
     "metadata": {},
     "output_type": "execute_result"
    }
   ],
   "source": [
    "clf_xgb.score(X_train,y_train)*100"
   ]
  },
  {
   "cell_type": "code",
   "execution_count": 134,
   "metadata": {
    "collapsed": true
   },
   "outputs": [],
   "source": [
    "preds_xgb = clf_xgb.predict(df_testset)"
   ]
  },
  {
   "cell_type": "code",
   "execution_count": null,
   "metadata": {
    "collapsed": true
   },
   "outputs": [],
   "source": []
  }
 ],
 "metadata": {
  "kernelspec": {
   "display_name": "Python 3",
   "language": "python",
   "name": "python3"
  },
  "language_info": {
   "codemirror_mode": {
    "name": "ipython",
    "version": 3
   },
   "file_extension": ".py",
   "mimetype": "text/x-python",
   "name": "python",
   "nbconvert_exporter": "python",
   "pygments_lexer": "ipython3",
   "version": "3.5.4"
  }
 },
 "nbformat": 4,
 "nbformat_minor": 2
}
